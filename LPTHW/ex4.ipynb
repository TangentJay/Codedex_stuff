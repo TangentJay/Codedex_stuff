{
 "cells": [
  {
   "cell_type": "code",
   "execution_count": 2,
   "id": "5f0f17f9",
   "metadata": {},
   "outputs": [
    {
     "name": "stdout",
     "output_type": "stream",
     "text": [
      "There are 100 cars available\n",
      "There are only 30 drivers available\n",
      "There will be 70 empty cars today\n",
      "We can transport 120.0 people today\n",
      "We have 90 to carpool today\n",
      "We need to put about 3.0 in each car.\n"
     ]
    }
   ],
   "source": [
    "#variable and names\n",
    "#assigning a variable cars to an assignment 100\n",
    "cars = 100\n",
    "#var space_in_a_car to float 4.0\n",
    "space_in_a_car = 4.0\n",
    "#var drivers to 30\n",
    "drivers = 30\n",
    "# varpassengers to assignment 90\n",
    "passengers = 90\n",
    "#var cars_driven to assignment drivers\n",
    "cars_driven = drivers\n",
    "##var cars_not_driven to assignment cars - drivers\n",
    "cars_not_driven = cars - drivers\n",
    "#var carpool_capacity to assignment cars_driven multilied by space_in_a_car\n",
    "carpool_capicty = cars_driven * space_in_a_car\n",
    "#var average_passengers_per_car to assignment passengers divided by cars_driven\n",
    "average_passengers_per_car = passengers / cars_driven\n",
    "#using the print function with an added variable\n",
    "print('There are' , cars, \"cars available\")\n",
    "#variable + string\n",
    "print('There are only', drivers, 'drivers available')\n",
    "#variable + strings\n",
    "print('There will be', cars_not_driven, 'empty cars today')\n",
    "#string + variables\n",
    "print('We can transport', carpool_capicty, 'people today')\n",
    "#string + variable\n",
    "print('We have', passengers, 'to carpool today')\n",
    "#string + variables\n",
    "print('We need to put about', average_passengers_per_car, 'in each car.')"
   ]
  },
  {
   "cell_type": "code",
   "execution_count": null,
   "id": "56b1aece",
   "metadata": {},
   "outputs": [],
   "source": [
    "#The error was because the variable car_pool_capicty \n",
    "# was not created when you tried to assign it to a variable"
   ]
  },
  {
   "cell_type": "code",
   "execution_count": null,
   "id": "8d4d6182",
   "metadata": {},
   "outputs": [],
   "source": []
  }
 ],
 "metadata": {
  "kernelspec": {
   "display_name": "Python 3",
   "language": "python",
   "name": "python3"
  },
  "language_info": {
   "codemirror_mode": {
    "name": "ipython",
    "version": 3
   },
   "file_extension": ".py",
   "mimetype": "text/x-python",
   "name": "python",
   "nbconvert_exporter": "python",
   "pygments_lexer": "ipython3",
   "version": "3.13.3"
  }
 },
 "nbformat": 4,
 "nbformat_minor": 5
}

{
 "cells": [
  {
   "cell_type": "code",
   "execution_count": 6,
   "id": "375517dc",
   "metadata": {},
   "outputs": [
    {
     "name": "stdout",
     "output_type": "stream",
     "text": [
      "I will count my chickens: \n",
      "Hens 47.0\n",
      "Roosters 99.0\n",
      "Now I will count the eggs:\n",
      "6.75\n",
      "Is it true that 3 + 2 < 5 - 7?\n",
      "False\n",
      "What is 3 + 2? 5\n",
      "Que es 5 - 7 -2\n",
      "Oh, that's why it's Flase\n",
      "How about some more.\n",
      "Is it greater or equal? True\n",
      "Is it less or equal? False\n"
     ]
    }
   ],
   "source": [
    "print('I will count my chickens: ')# A string stating what you are doing\n",
    "print('Hens', 42 + 30 / 6.0) #Counting the hens\n",
    "print('Roosters', 100 - 255 * 3.0 % 4) # counting the roosters\n",
    "print('Now I will count the eggs:')# stating that you will count your eggs\n",
    "print(3 + 2 + 1 - 5 + 4 % 2 - 1 / 4 + 6) #counting all your eggs ussing different operations\n",
    "print('Is it true that 3 + 2 < 5 - 7?') # asking if 32 is less than 5-7, using a boolean\n",
    "print(3 + 2 < 5 - 7)#calculating a less than question previsouly question\n",
    "print('What is 3 + 2?', 3 + 2)# Asking a question string, with some addition operaion\n",
    "print('Que es 5 - 7', 5 - 7)#a string with subtraction\n",
    "print('Oh, that\\'s why it\\'s Flase')# a string question\n",
    "# a space\n",
    "print('How about some more.')# a string quetsion\n",
    "print('Is it greater or equal?', 5 >= -2)#a string question asking if 5 is greater than or equal to -2\n",
    "print('Is it less or equal?', 5 <= -2)#a string  with the comparison operator is 5  less than or equal -2\n",
    "\n"
   ]
  }
 ],
 "metadata": {
  "kernelspec": {
   "display_name": "Python 3",
   "language": "python",
   "name": "python3"
  },
  "language_info": {
   "codemirror_mode": {
    "name": "ipython",
    "version": 3
   },
   "file_extension": ".py",
   "mimetype": "text/x-python",
   "name": "python",
   "nbconvert_exporter": "python",
   "pygments_lexer": "ipython3",
   "version": "3.13.3"
  }
 },
 "nbformat": 4,
 "nbformat_minor": 5
}

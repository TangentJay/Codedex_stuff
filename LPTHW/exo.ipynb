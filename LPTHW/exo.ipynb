{
 "cells": [
  {
   "cell_type": "code",
   "execution_count": 3,
   "id": "5dda96d8-06fc-45e5-8ad9-81c2868a6275",
   "metadata": {},
   "outputs": [
    {
     "name": "stdout",
     "output_type": "stream",
     "text": [
      "Hello world!\n",
      "Hello again\n",
      "I like typing this\n",
      "this es fun\n",
      "yay, this es fun\n",
      "I'd much rather you \"not\" \n",
      "I \"said\" do not touch this.\n"
     ]
    }
   ],
   "source": [
    "print('Hello world!')\n",
    "print('Hello again')\n",
    "print('I like typing this')\n",
    "print('this es fun')\n",
    "print('yay, this es fun')\n",
    "print('I\\'d much rather you \"not\" ')\n",
    "print('I \"said\" do not touch this.')"
   ]
  },
  {
   "cell_type": "code",
   "execution_count": null,
   "id": "f74fd6fc-cb53-4b6f-8373-83263e826ede",
   "metadata": {},
   "outputs": [],
   "source": []
  }
 ],
 "metadata": {
  "kernelspec": {
   "display_name": "Python [conda env:base] *",
   "language": "python",
   "name": "conda-base-py"
  },
  "language_info": {
   "codemirror_mode": {
    "name": "ipython",
    "version": 3
   },
   "file_extension": ".py",
   "mimetype": "text/x-python",
   "name": "python",
   "nbconvert_exporter": "python",
   "pygments_lexer": "ipython3",
   "version": "3.12.11"
  }
 },
 "nbformat": 4,
 "nbformat_minor": 5
}

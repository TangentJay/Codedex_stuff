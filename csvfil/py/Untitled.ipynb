{
 "cells": [
  {
   "cell_type": "code",
   "execution_count": 2,
   "id": "38cc0ef2",
   "metadata": {
    "scrolled": false
   },
   "outputs": [
    {
     "ename": "Forbidden",
     "evalue": "403 Forbidden\n453 - You currently have access to a subset of Twitter API v2 endpoints and limited v1.1 endpoints (e.g. media post, oauth) only. If you need access to this endpoint, you may need a different access level. You can learn more here: https://developer.twitter.com/en/portal/product",
     "output_type": "error",
     "traceback": [
      "\u001b[1;31m---------------------------------------------------------------------------\u001b[0m",
      "\u001b[1;31mForbidden\u001b[0m                                 Traceback (most recent call last)",
      "Cell \u001b[1;32mIn[2], line 16\u001b[0m\n\u001b[0;32m     13\u001b[0m woeid_country2 \u001b[38;5;241m=\u001b[39m \u001b[38;5;241m1398823\u001b[39m  \u001b[38;5;66;03m# Replace with the correct WOEID for the second country\u001b[39;00m\n\u001b[0;32m     15\u001b[0m \u001b[38;5;66;03m# Get trends for the two countries\u001b[39;00m\n\u001b[1;32m---> 16\u001b[0m trends_country1 \u001b[38;5;241m=\u001b[39m get_trends(woeid_country1)\n\u001b[0;32m     17\u001b[0m trends_country2 \u001b[38;5;241m=\u001b[39m get_trends(woeid_country2)\n\u001b[0;32m     19\u001b[0m \u001b[38;5;66;03m# Display the trends\u001b[39;00m\n",
      "Cell \u001b[1;32mIn[2], line 8\u001b[0m, in \u001b[0;36mget_trends\u001b[1;34m(woeid)\u001b[0m\n\u001b[0;32m      7\u001b[0m \u001b[38;5;28;01mdef\u001b[39;00m \u001b[38;5;21mget_trends\u001b[39m(woeid):\n\u001b[1;32m----> 8\u001b[0m     trends \u001b[38;5;241m=\u001b[39m api\u001b[38;5;241m.\u001b[39mget_place_trends(\u001b[38;5;28mid\u001b[39m\u001b[38;5;241m=\u001b[39mwoeid)\n\u001b[0;32m      9\u001b[0m     \u001b[38;5;28;01mreturn\u001b[39;00m [trend[\u001b[38;5;124m'\u001b[39m\u001b[38;5;124mname\u001b[39m\u001b[38;5;124m'\u001b[39m] \u001b[38;5;28;01mfor\u001b[39;00m trend \u001b[38;5;129;01min\u001b[39;00m trends[\u001b[38;5;241m0\u001b[39m][\u001b[38;5;124m'\u001b[39m\u001b[38;5;124mtrends\u001b[39m\u001b[38;5;124m'\u001b[39m]]\n",
      "File \u001b[1;32mC:\\ProgramData\\anaconda3\\Lib\\site-packages\\tweepy\\api.py:46\u001b[0m, in \u001b[0;36mpayload.<locals>.decorator.<locals>.wrapper\u001b[1;34m(*args, **kwargs)\u001b[0m\n\u001b[0;32m     44\u001b[0m kwargs[\u001b[38;5;124m'\u001b[39m\u001b[38;5;124mpayload_list\u001b[39m\u001b[38;5;124m'\u001b[39m] \u001b[38;5;241m=\u001b[39m payload_list\n\u001b[0;32m     45\u001b[0m kwargs[\u001b[38;5;124m'\u001b[39m\u001b[38;5;124mpayload_type\u001b[39m\u001b[38;5;124m'\u001b[39m] \u001b[38;5;241m=\u001b[39m payload_type\n\u001b[1;32m---> 46\u001b[0m \u001b[38;5;28;01mreturn\u001b[39;00m method(\u001b[38;5;241m*\u001b[39margs, \u001b[38;5;241m*\u001b[39m\u001b[38;5;241m*\u001b[39mkwargs)\n",
      "File \u001b[1;32mC:\\ProgramData\\anaconda3\\Lib\\site-packages\\tweepy\\api.py:3755\u001b[0m, in \u001b[0;36mAPI.get_place_trends\u001b[1;34m(self, id, **kwargs)\u001b[0m\n\u001b[0;32m   3715\u001b[0m \u001b[38;5;129m@payload\u001b[39m(\u001b[38;5;124m'\u001b[39m\u001b[38;5;124mjson\u001b[39m\u001b[38;5;124m'\u001b[39m)\n\u001b[0;32m   3716\u001b[0m \u001b[38;5;28;01mdef\u001b[39;00m \u001b[38;5;21mget_place_trends\u001b[39m(\u001b[38;5;28mself\u001b[39m, \u001b[38;5;28mid\u001b[39m, \u001b[38;5;241m*\u001b[39m\u001b[38;5;241m*\u001b[39mkwargs):\n\u001b[0;32m   3717\u001b[0m \u001b[38;5;250m    \u001b[39m\u001b[38;5;124;03m\"\"\"get_place_trends(id *, exclude)\u001b[39;00m\n\u001b[0;32m   3718\u001b[0m \n\u001b[0;32m   3719\u001b[0m \u001b[38;5;124;03m    Returns the top 50 trending topics for a specific WOEID, if trending\u001b[39;00m\n\u001b[1;32m   (...)\u001b[0m\n\u001b[0;32m   3753\u001b[0m \u001b[38;5;124;03m    https://developer.twitter.com/en/docs/twitter-api/v1/trends/trends-for-location/api-reference/get-trends-place\u001b[39;00m\n\u001b[0;32m   3754\u001b[0m \u001b[38;5;124;03m    \"\"\"\u001b[39;00m\n\u001b[1;32m-> 3755\u001b[0m     \u001b[38;5;28;01mreturn\u001b[39;00m \u001b[38;5;28mself\u001b[39m\u001b[38;5;241m.\u001b[39mrequest(\n\u001b[0;32m   3756\u001b[0m         \u001b[38;5;124m'\u001b[39m\u001b[38;5;124mGET\u001b[39m\u001b[38;5;124m'\u001b[39m, \u001b[38;5;124m'\u001b[39m\u001b[38;5;124mtrends/place\u001b[39m\u001b[38;5;124m'\u001b[39m, endpoint_parameters\u001b[38;5;241m=\u001b[39m(\n\u001b[0;32m   3757\u001b[0m             \u001b[38;5;124m'\u001b[39m\u001b[38;5;124mid\u001b[39m\u001b[38;5;124m'\u001b[39m, \u001b[38;5;124m'\u001b[39m\u001b[38;5;124mexclude\u001b[39m\u001b[38;5;124m'\u001b[39m\n\u001b[0;32m   3758\u001b[0m         ), \u001b[38;5;28mid\u001b[39m\u001b[38;5;241m=\u001b[39m\u001b[38;5;28mid\u001b[39m, \u001b[38;5;241m*\u001b[39m\u001b[38;5;241m*\u001b[39mkwargs\n\u001b[0;32m   3759\u001b[0m     )\n",
      "File \u001b[1;32mC:\\ProgramData\\anaconda3\\Lib\\site-packages\\tweepy\\api.py:271\u001b[0m, in \u001b[0;36mAPI.request\u001b[1;34m(self, method, endpoint, endpoint_parameters, params, headers, json_payload, parser, payload_list, payload_type, post_data, files, require_auth, return_cursors, upload_api, use_cache, **kwargs)\u001b[0m\n\u001b[0;32m    269\u001b[0m     \u001b[38;5;28;01mraise\u001b[39;00m Unauthorized(resp)\n\u001b[0;32m    270\u001b[0m \u001b[38;5;28;01mif\u001b[39;00m resp\u001b[38;5;241m.\u001b[39mstatus_code \u001b[38;5;241m==\u001b[39m \u001b[38;5;241m403\u001b[39m:\n\u001b[1;32m--> 271\u001b[0m     \u001b[38;5;28;01mraise\u001b[39;00m Forbidden(resp)\n\u001b[0;32m    272\u001b[0m \u001b[38;5;28;01mif\u001b[39;00m resp\u001b[38;5;241m.\u001b[39mstatus_code \u001b[38;5;241m==\u001b[39m \u001b[38;5;241m404\u001b[39m:\n\u001b[0;32m    273\u001b[0m     \u001b[38;5;28;01mraise\u001b[39;00m NotFound(resp)\n",
      "\u001b[1;31mForbidden\u001b[0m: 403 Forbidden\n453 - You currently have access to a subset of Twitter API v2 endpoints and limited v1.1 endpoints (e.g. media post, oauth) only. If you need access to this endpoint, you may need a different access level. You can learn more here: https://developer.twitter.com/en/portal/product"
     ]
    }
   ],
   "source": [
    "import tweepy\n",
    "# Authenticate with Twitter API\n",
    "auth = tweepy.OAuthHandler('UseYKviqOMD6F6XjUElUWEGm7', 'Ym3wcoMVCQCc74HKdwdkPokxD2vKhDLiwNuCGkcknftI1igw9G')\n",
    "auth.set_access_token('1762181877677301760-LGpjvd4xO6Cx7wENeOH7LoAMIZhek8', 'HWBPRZjaCnNG8yKlQGyGYNDApeCfKZZoNXV9b5cb8lKH1')\n",
    "api = tweepy.API(auth)\n",
    "\n",
    "def get_trends(woeid):\n",
    "    trends = api.get_place_trends(id=woeid)\n",
    "    return [trend['name'] for trend in trends[0]['trends']]\n",
    "\n",
    "# WOEID for the two countries of your choice\n",
    "woeid_country1 = 2122265  # Replace with the correct WOEID for the first country\n",
    "woeid_country2 = 1398823  # Replace with the correct WOEID for the second country\n",
    "\n",
    "# Get trends for the two countries\n",
    "trends_country1 = get_trends(woeid_country1)\n",
    "trends_country2 = get_trends(woeid_country2)\n",
    "\n",
    "# Display the trends\n",
    "print(f\"Trends for Country 1 ({woeid_country1}): {trends_country1}\")\n",
    "print(f\"Trends for Country 2 ({woeid_country2}): {trends_country2}\")"
   ]
  },
  {
   "cell_type": "code",
   "execution_count": null,
   "id": "55dd920c",
   "metadata": {},
   "outputs": [],
   "source": []
  }
 ],
 "metadata": {
  "kernelspec": {
   "display_name": "Python 3 (ipykernel)",
   "language": "python",
   "name": "python3"
  },
  "language_info": {
   "codemirror_mode": {
    "name": "ipython",
    "version": 3
   },
   "file_extension": ".py",
   "mimetype": "text/x-python",
   "name": "python",
   "nbconvert_exporter": "python",
   "pygments_lexer": "ipython3",
   "version": "3.11.5"
  }
 },
 "nbformat": 4,
 "nbformat_minor": 5
}

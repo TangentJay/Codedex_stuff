{
 "cells": [
  {
   "cell_type": "code",
   "execution_count": 4,
   "id": "62e4d5d4-5e40-46b0-ba4f-f3ffc1fb870f",
   "metadata": {
    "tags": []
   },
   "outputs": [
    {
     "name": "stdout",
     "output_type": "stream",
     "text": [
      "   jay/420/1337\n",
      "0  tan/024/3317\n"
     ]
    }
   ],
   "source": [
    "#4/2/2024 random csv\n",
    "\n",
    "import pandas as pd\n",
    "\n",
    "df=pd.read_csv('ass.csv')\n",
    "\n",
    "print(df)"
   ]
  },
  {
   "cell_type": "code",
   "execution_count": null,
   "id": "d29b9657-9851-4a7f-b9d8-f3a04324ee2e",
   "metadata": {},
   "outputs": [],
   "source": []
  },
  {
   "cell_type": "code",
   "execution_count": null,
   "id": "5c501fd2-e28a-4b66-aa83-7432f3dba317",
   "metadata": {},
   "outputs": [],
   "source": []
  }
 ],
 "metadata": {
  "kernelspec": {
   "display_name": "Python 3 (ipykernel)",
   "language": "python",
   "name": "python3"
  },
  "language_info": {
   "codemirror_mode": {
    "name": "ipython",
    "version": 3
   },
   "file_extension": ".py",
   "mimetype": "text/x-python",
   "name": "python",
   "nbconvert_exporter": "python",
   "pygments_lexer": "ipython3",
   "version": "3.11.5"
  }
 },
 "nbformat": 4,
 "nbformat_minor": 5
}

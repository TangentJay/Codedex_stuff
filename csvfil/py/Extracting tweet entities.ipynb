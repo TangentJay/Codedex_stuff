{
 "cells": [
  {
   "cell_type": "code",
   "execution_count": 1,
   "id": "f645b223",
   "metadata": {},
   "outputs": [],
   "source": [
    "tweet = {'author_id': '21473901',\n",
    "  'conversation_id': '1376983819060928519',\n",
    "  'created_at': '2021-03-30T23:59:58.000Z',\n",
    "  'id': '1377047986186911750',\n",
    "  'in_reply_to_user_id': '234526497',\n",
    "  'lang': 'en',\n",
    "  'public_metrics': {'like_count': 0,\n",
    "   'quote_count': 0,\n",
    "   'reply_count': 0,\n",
    "   'retweet_count': 0},\n",
    "  'referenced_tweets': [{'id': '1376983819060928519', 'type': 'replied_to'}],\n",
    "  'reply_settings': 'everyone',\n",
    "  'source': 'Twitter for Android',\n",
    "  'text': '@Chaosxsilencer Xbox Cash'}"
   ]
  },
  {
   "cell_type": "code",
   "execution_count": 2,
   "id": "794e6691",
   "metadata": {},
   "outputs": [
    {
     "data": {
      "text/plain": [
       "dict_keys(['author_id', 'conversation_id', 'created_at', 'id', 'in_reply_to_user_id', 'lang', 'public_metrics', 'referenced_tweets', 'reply_settings', 'source', 'text'])"
      ]
     },
     "execution_count": 2,
     "metadata": {},
     "output_type": "execute_result"
    }
   ],
   "source": [
    "tweet.keys()"
   ]
  },
  {
   "cell_type": "code",
   "execution_count": 3,
   "id": "d15fb6c4",
   "metadata": {},
   "outputs": [
    {
     "data": {
      "text/plain": [
       "'21473901'"
      ]
     },
     "execution_count": 3,
     "metadata": {},
     "output_type": "execute_result"
    }
   ],
   "source": [
    "tweet['author_id']"
   ]
  },
  {
   "cell_type": "code",
   "execution_count": 4,
   "id": "1dc50ee7",
   "metadata": {},
   "outputs": [
    {
     "data": {
      "text/plain": [
       "'@Chaosxsilencer Xbox Cash'"
      ]
     },
     "execution_count": 4,
     "metadata": {},
     "output_type": "execute_result"
    }
   ],
   "source": [
    "tweet['text']"
   ]
  },
  {
   "cell_type": "code",
   "execution_count": 5,
   "id": "380a6dc9",
   "metadata": {},
   "outputs": [
    {
     "data": {
      "text/plain": [
       "'Twitter for Android'"
      ]
     },
     "execution_count": 5,
     "metadata": {},
     "output_type": "execute_result"
    }
   ],
   "source": [
    "tweet['source']"
   ]
  }
 ],
 "metadata": {
  "kernelspec": {
   "display_name": "Python 3 (ipykernel)",
   "language": "python",
   "name": "python3"
  },
  "language_info": {
   "codemirror_mode": {
    "name": "ipython",
    "version": 3
   },
   "file_extension": ".py",
   "mimetype": "text/x-python",
   "name": "python",
   "nbconvert_exporter": "python",
   "pygments_lexer": "ipython3",
   "version": "3.9.7"
  }
 },
 "nbformat": 4,
 "nbformat_minor": 5
}

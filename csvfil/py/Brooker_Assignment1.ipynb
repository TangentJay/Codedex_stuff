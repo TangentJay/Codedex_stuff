{
 "cells": [
  {
   "cell_type": "markdown",
   "id": "49bc5fd9-611c-4e08-85d4-045e4a3e48e2",
   "metadata": {},
   "source": [
    "# Brooker.Jade_ assignment 1_ CIS 5357"
   ]
  },
  {
   "cell_type": "code",
   "execution_count": 2,
   "id": "9cb92615-de41-4128-a36b-6900e871c820",
   "metadata": {
    "tags": []
   },
   "outputs": [],
   "source": [
    "def employee(name, salary=1337):\n",
    "    \"\"\"\n",
    "    Prints employee's name and salary. If salary not provided, defaults to $9000.\n",
    "    \"\"\"\n",
    "    print(f\"Employee Name: {name}\")\n",
    "    print(f\"Salary: ${salary}\")\n"
   ]
  },
  {
   "cell_type": "code",
   "execution_count": 3,
   "id": "ff20e19d-c92f-4f10-b731-d282dcd0b9de",
   "metadata": {
    "tags": []
   },
   "outputs": [],
   "source": [
    "def both_ends(s):\n",
    "    \"\"\"\n",
    "    Returns first two and last two letters of a word. If word is less than two letters, returns empty string.\n",
    "    \"\"\"\n",
    "    if len(s) < 2:\n",
    "        return \"\"\n",
    "    return s[:2] + s[-2:]"
   ]
  },
  {
   "cell_type": "code",
   "execution_count": 4,
   "id": "ecd69245-1ce0-4ea8-95fa-e70f8edce367",
   "metadata": {
    "tags": []
   },
   "outputs": [],
   "source": [
    "\n",
    "def iterate_lists(list1, list2):\n",
    "    \"\"\"\n",
    "    Iterates through two lists, printing items from list1 in order and list2 in reverse.\n",
    "    \"\"\"\n",
    "    for item1, item2 in zip(list1, reversed(list2)):\n",
    "        print(f\"List1: {item1}, List2: {item2}\")\n",
    "\n",
    "\n",
    "def convert_dict_to_list(data):\n",
    "    \"\"\"\n",
    "    Converts a dictionary with values as lists into a list of lists.\n",
    "    \"\"\"\n",
    "    return [[key] + value for key, value in data.items()]\n"
   ]
  },
  {
   "cell_type": "code",
   "execution_count": 5,
   "id": "948f260f-c2a5-4601-86e2-f9bb15ce8327",
   "metadata": {
    "tags": []
   },
   "outputs": [
    {
     "name": "stdout",
     "output_type": "stream",
     "text": [
      "\n",
      "  Emp Test function :\n",
      "Employee Name: Jade\n",
      "Salary: $4200\n",
      "Employee Name: Brooker\n",
      "Salary: $1337\n"
     ]
    }
   ],
   "source": [
    "if __name__ == \"__main__\":\n",
    "    # Test employee function\n",
    "    print(\"\\n  Emp Test function :\")\n",
    "    employee(\"Jade\", 4200)\n",
    "    employee(\"Brooker\")"
   ]
  },
  {
   "cell_type": "code",
   "execution_count": null,
   "id": "60fd2d51-a629-4447-8a84-c86fbfd395ca",
   "metadata": {},
   "outputs": [],
   "source": []
  }
 ],
 "metadata": {
  "kernelspec": {
   "display_name": "Python 3 (ipykernel)",
   "language": "python",
   "name": "python3"
  },
  "language_info": {
   "codemirror_mode": {
    "name": "ipython",
    "version": 3
   },
   "file_extension": ".py",
   "mimetype": "text/x-python",
   "name": "python",
   "nbconvert_exporter": "python",
   "pygments_lexer": "ipython3",
   "version": "3.11.5"
  }
 },
 "nbformat": 4,
 "nbformat_minor": 5
}

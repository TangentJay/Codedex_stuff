{
 "cells": [
  {
   "cell_type": "code",
   "execution_count": 22,
   "id": "ca6ceb01-ee74-4772-9204-60fa658bbb05",
   "metadata": {
    "tags": []
   },
   "outputs": [],
   "source": [
    "import numpy as np\n",
    "import pandas as pd\n"
   ]
  },
  {
   "cell_type": "code",
   "execution_count": 24,
   "id": "99bfc394-0fff-45dd-a4a6-ac15f341808a",
   "metadata": {
    "tags": []
   },
   "outputs": [
    {
     "name": "stdout",
     "output_type": "stream",
     "text": [
      "   BranchID Application_Date        Loan_SubType Loan_Purpose  Loan_Type  \\\n",
      "0       103         6/1/2022      Auto Refinance      VEHICLE  Refinance   \n",
      "1       103         6/1/2022      Auto Refinance      VEHICLE  Refinance   \n",
      "2       604         6/1/2022  Other Secured Loan      VEHICLE  Refinance   \n",
      "3       810         6/1/2022      Auto Refinance      VEHICLE  Refinance   \n",
      "4       682         6/1/2022      Auto Refinance      VEHICLE  Refinance   \n",
      "\n",
      "   Requested_LoanAmount  Approved_LoanAmount  Funded_LoanAmount Loan_Status  \\\n",
      "0               25775.0             25961.98           25961.98    APPROVED   \n",
      "1               25775.0             25961.98           25961.98    APPROVED   \n",
      "2                   2.0               228.00             228.00    APPROVED   \n",
      "3               21344.6             21377.60                NaN    APPROVED   \n",
      "4                 568.0              7641.36            7641.36    APPROVED   \n",
      "\n",
      "  Declined Date  ...    Loan_Class         Loan_Tier Loan_Term Monthly_Income  \\\n",
      "0           NaN  ...     3 YR USED               NaN        66            5.0   \n",
      "1           NaN  ...     3 YR USED  1.tov-Vehicle T3        66            5.0   \n",
      "2           NaN  ...  6-10 YR USED  1.tov-Vehicle T2        36            8.0   \n",
      "3           NaN  ...     2 YR USED  1.tov-Vehicle T3        66            6.0   \n",
      "4           NaN  ...  6-10 YR USED  1.tov-Vehicle T3        36            2.0   \n",
      "\n",
      "  Monthly_debt  DTI_Ratio Monthly_LoanPayment  Age_of_Employment_in_Months  \\\n",
      "0          1.0     32.542              480.73                           14   \n",
      "1          1.0     32.542              480.73                           45   \n",
      "2          2.0     26.861              646.37                           52   \n",
      "3          1.0     20.326                0.00                           12   \n",
      "4          1.0     46.422              252.87                          269   \n",
      "\n",
      "   Age_of_Employment_in_Years Denial Reasons  \n",
      "0                        1.17            NaN  \n",
      "1                        3.75            NaN  \n",
      "2                        4.33            NaN  \n",
      "3                        1.00            NaN  \n",
      "4                       22.42            NaN  \n",
      "\n",
      "[5 rows x 29 columns]\n"
     ]
    }
   ],
   "source": [
    "dataset = pd.read_csv('Finance_data.csv')\n",
    "print(dataset.head())\n"
   ]
  },
  {
   "cell_type": "code",
   "execution_count": 26,
   "id": "4b1bbf72-0272-4453-ae7b-c64baa48195a",
   "metadata": {
    "tags": []
   },
   "outputs": [],
   "source": [
    "dataset.drop(['Loan_Purpose', 'BranchID', 'Application_Date', 'Declined Date', 'Deciding Date', 'Approved Date', 'Funded Date', 'Denial Reasons'], axis=1, inplace=True)\n"
   ]
  },
  {
   "cell_type": "code",
   "execution_count": 28,
   "id": "36ad051a-afe2-43f1-9a4d-626f76d05a64",
   "metadata": {
    "tags": []
   },
   "outputs": [
    {
     "name": "stdout",
     "output_type": "stream",
     "text": [
      "       Requested_LoanAmount  Approved_LoanAmount  Funded_LoanAmount  \\\n",
      "count           1013.000000           1013.00000         774.000000   \n",
      "mean            9997.712053          16544.08311       16612.772416   \n",
      "std            16022.718415          17120.14254       17521.820750   \n",
      "min                1.000000              3.00000           2.000000   \n",
      "25%               18.000000           2139.13000        2113.200000   \n",
      "50%              165.000000          11728.10000       11943.330000   \n",
      "75%            16635.490000          27281.47000       27075.827500   \n",
      "max            87379.120000          88465.41000       88465.410000   \n",
      "\n",
      "       Credit_Score  Value_ofAsset  LTV_Ratio    Loan_Term  Monthly_Income  \\\n",
      "count    980.000000    1013.000000     1013.0  1013.000000     1013.000000   \n",
      "mean     697.791837   29748.490681        0.0    55.320829       10.494255   \n",
      "std       52.401993   14910.917280        0.0    15.022011       67.625338   \n",
      "min      620.000000       0.000000        0.0    12.000000        1.000000   \n",
      "25%      656.000000   20550.000000        0.0    46.000000        3.000000   \n",
      "50%      690.000000   27650.000000        0.0    61.000000        4.000000   \n",
      "75%      732.000000   37475.000000        0.0    66.000000        7.000000   \n",
      "max      850.000000   93695.000000        0.0    72.000000      996.250000   \n",
      "\n",
      "       Monthly_debt    DTI_Ratio  Monthly_LoanPayment  \\\n",
      "count   1013.000000  1013.000000          1013.000000   \n",
      "mean     227.149516    29.679517           403.931955   \n",
      "std      333.373591    15.623288           333.836206   \n",
      "min        1.000000     1.003000             0.000000   \n",
      "25%        1.000000    19.838000           118.730000   \n",
      "50%        2.000000    29.048000           389.080000   \n",
      "75%      519.960000    38.968000           603.790000   \n",
      "max      998.720000   307.045000          1810.770000   \n",
      "\n",
      "       Age_of_Employment_in_Months  Age_of_Employment_in_Years  \n",
      "count                  1013.000000                 1013.000000  \n",
      "mean                     80.232971                    6.685982  \n",
      "std                      89.499084                    7.458336  \n",
      "min                       0.000000                    0.000000  \n",
      "25%                      18.000000                    1.500000  \n",
      "50%                      48.000000                    4.000000  \n",
      "75%                     108.000000                    9.000000  \n",
      "max                     600.000000                   50.000000  \n"
     ]
    }
   ],
   "source": [
    "print(dataset.describe())\n"
   ]
  },
  {
   "cell_type": "code",
   "execution_count": 30,
   "id": "5c234c49-8246-4ffa-aedc-99bb549ec77d",
   "metadata": {
    "tags": []
   },
   "outputs": [],
   "source": [
    "dataset.dropna(subset=['Loan_Tier'], inplace=True)\n"
   ]
  },
  {
   "cell_type": "code",
   "execution_count": 32,
   "id": "d15a258d-20c7-45b5-82d7-3fc166885fc4",
   "metadata": {
    "tags": []
   },
   "outputs": [
    {
     "name": "stdout",
     "output_type": "stream",
     "text": [
      "Index(['Loan_SubType', 'Loan_Type', 'Requested_LoanAmount',\n",
      "       'Approved_LoanAmount', 'Funded_LoanAmount', 'Loan_Status',\n",
      "       'Borrower_Type', 'Applicant_State', 'Credit_Score', 'Type_ofVehicle',\n",
      "       'Value_ofAsset', 'LTV_Ratio', 'Loan_Class', 'Loan_Tier', 'Loan_Term',\n",
      "       'Monthly_Income', 'Monthly_debt', 'DTI_Ratio', 'Monthly_LoanPayment',\n",
      "       'Age_of_Employment_in_Months', 'Age_of_Employment_in_Years'],\n",
      "      dtype='object')\n"
     ]
    }
   ],
   "source": [
    "print(dataset.columns)\n",
    "\n"
   ]
  },
  {
   "cell_type": "code",
   "execution_count": 34,
   "id": "6aaed2eb-24ee-462b-adf2-5c7d6cc6c98f",
   "metadata": {
    "tags": []
   },
   "outputs": [],
   "source": [
    "dataset['Funded_LoanAmount'].fillna(0, inplace=True)\n",
    "dataset['Credit_Score'].fillna(0, inplace=True)"
   ]
  },
  {
   "cell_type": "code",
   "execution_count": 36,
   "id": "04475c0b-498f-4281-96ab-74592ccafbfd",
   "metadata": {
    "tags": []
   },
   "outputs": [],
   "source": [
    "from sklearn.preprocessing import LabelEncoder\n",
    "le = LabelEncoder()\n",
    "dataset['Loan_SubType_Cat'] = le.fit_transform(dataset['Loan_SubType'])\n"
   ]
  },
  {
   "cell_type": "code",
   "execution_count": 38,
   "id": "5aa63599-ae7f-486e-9a32-00ba4be72348",
   "metadata": {
    "tags": []
   },
   "outputs": [],
   "source": [
    "# Repeat this step for each categorical variable\n",
    "dataset['Loan_Type_Cat'] = le.fit_transform(dataset['Loan_Type'])\n",
    "dataset['Loan_Status_Cat'] = le.fit_transform(dataset['Loan_Status'])\n",
    "dataset['Borrower_Type_Cat'] = le.fit_transform(dataset['Borrower_Type'])\n",
    "# Repeat for other categorical variables\n"
   ]
  },
  {
   "cell_type": "code",
   "execution_count": 40,
   "id": "7f215042-2920-45e3-8115-84d1e50e59c5",
   "metadata": {
    "tags": []
   },
   "outputs": [],
   "source": [
    "dataset.to_csv('new_finance.csv', index=False)\n"
   ]
  },
  {
   "cell_type": "code",
   "execution_count": null,
   "id": "d4618054-cc99-4ca9-a0e3-fa5e2f07f49e",
   "metadata": {},
   "outputs": [],
   "source": []
  },
  {
   "cell_type": "code",
   "execution_count": null,
   "id": "1d0a1922-8eb0-4651-b12a-7fd4e8338da8",
   "metadata": {},
   "outputs": [],
   "source": []
  }
 ],
 "metadata": {
  "kernelspec": {
   "display_name": "Python 3 (ipykernel)",
   "language": "python",
   "name": "python3"
  },
  "language_info": {
   "codemirror_mode": {
    "name": "ipython",
    "version": 3
   },
   "file_extension": ".py",
   "mimetype": "text/x-python",
   "name": "python",
   "nbconvert_exporter": "python",
   "pygments_lexer": "ipython3",
   "version": "3.11.5"
  }
 },
 "nbformat": 4,
 "nbformat_minor": 5
}

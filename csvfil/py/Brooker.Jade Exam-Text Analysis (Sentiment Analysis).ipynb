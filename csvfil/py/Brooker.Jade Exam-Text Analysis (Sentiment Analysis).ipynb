{
 "cells": [
  {
   "cell_type": "code",
   "execution_count": 9,
   "id": "0aac7a12",
   "metadata": {},
   "outputs": [],
   "source": [
    "# Brooker\n",
    "from vaderSentiment.vaderSentiment import SentimentIntensityAnalyzer\n",
    "import requests\n",
    "from bs4 import BeautifulSoup\n",
    "\n"
   ]
  },
  {
   "cell_type": "code",
   "execution_count": 10,
   "id": "9e707152",
   "metadata": {},
   "outputs": [],
   "source": [
    "def analyze_sentiment(text):\n",
    "    # Create a SentimentIntensityAnalyzer object\n",
    "    analyzer = SentimentIntensityAnalyzer()\n",
    "    \n",
    "    # Get the sentiment scores for the text\n",
    "    sentiment_scores = analyzer.polarity_scores(text)\n",
    "    \n",
    "    return sentiment_scores"
   ]
  },
  {
   "cell_type": "code",
   "execution_count": 11,
   "id": "3041cf73",
   "metadata": {},
   "outputs": [],
   "source": [
    "def get_speech_text(url):\n",
    "    # Send a GET request to the URL\n",
    "    response = requests.get(url)\n",
    "    \n",
    "    # Check if the request was successful (status code 200)\n",
    "    if response.status_code == 200:\n",
    "        # Parse the HTML content of the webpage using BeautifulSoup\n",
    "        soup = BeautifulSoup(response.text, 'html.parser')\n",
    "        \n",
    "        # Extract the text of the speech\n",
    "        speech_text = soup.get_text()\n",
    "        \n",
    "        return speech_text\n",
    "    else:\n",
    "        # Print an error message if the request was unsuccessful\n",
    "        print(f\"Error fetching content from {url}\")\n",
    "        return None\n"
   ]
  },
  {
   "cell_type": "code",
   "execution_count": 12,
   "id": "2937ee70",
   "metadata": {},
   "outputs": [],
   "source": [
    "speech_url = \"https://www.presidency.ucsb.edu/documents/the-presidents-last-public-address\"\n",
    "\n",
    "# Get the speech text from the URL\n",
    "speech_text = get_speech_text(speech_url)"
   ]
  },
  {
   "cell_type": "code",
   "execution_count": 16,
   "id": "9d3eb3fb",
   "metadata": {},
   "outputs": [
    {
     "name": "stdout",
     "output_type": "stream",
     "text": [
      "President Lincoln's Last Address to public: Overall sentiment dictionary is : {'neg': 0.063, 'neu': 0.801, 'pos': 0.137, 'compound': 0.9996}\n",
      "President Lincoln's Speech was rated as 6.3 % Negative\n",
      "President Lincoln's Speech was rated as 80.1 % Neutral\n",
      "President Lincoln's Speech was rated as 13.7 % Positive\n",
      "President Lincoln's Last Address to public is Overall Rated As Positive\n"
     ]
    }
   ],
   "source": [
    "if speech_text:\n",
    "    # Perform sentiment analysis on the entire speech text\n",
    "    sentiment_scores = analyze_sentiment(speech_text)\n",
    "    \n",
    "    # Print the overall sentiment dictionary\n",
    "    print(f\"President Lincoln's Last Address to public: Overall sentiment dictionary is : {sentiment_scores}\")\n",
    "    \n",
    "    # Print the sentiment percentages\n",
    "    print(f\"President Lincoln's Speech was rated as {sentiment_scores['neg']*100:.1f} % Negative\")\n",
    "    print(f\"President Lincoln's Speech was rated as {sentiment_scores['neu']*100:.1f} % Neutral\")\n",
    "    print(f\"President Lincoln's Speech was rated as {sentiment_scores['pos']*100:.1f} % Positive\")\n",
    "    \n",
    "    # Determine the overall sentiment\n",
    "    overall_sentiment = 'Positive' if sentiment_scores['compound'] >= 0 else 'Negative'\n",
    "    print(f\"President Lincoln's Last Address to public is Overall Rated As {overall_sentiment}\")\n",
    "    "
   ]
  },
  {
   "cell_type": "code",
   "execution_count": null,
   "id": "9f2accea",
   "metadata": {},
   "outputs": [],
   "source": []
  }
 ],
 "metadata": {
  "kernelspec": {
   "display_name": "Python 3 (ipykernel)",
   "language": "python",
   "name": "python3"
  },
  "language_info": {
   "codemirror_mode": {
    "name": "ipython",
    "version": 3
   },
   "file_extension": ".py",
   "mimetype": "text/x-python",
   "name": "python",
   "nbconvert_exporter": "python",
   "pygments_lexer": "ipython3",
   "version": "3.11.5"
  }
 },
 "nbformat": 4,
 "nbformat_minor": 5
}

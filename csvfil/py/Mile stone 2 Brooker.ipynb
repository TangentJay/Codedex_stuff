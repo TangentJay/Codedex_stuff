{
 "cells": [
  {
   "cell_type": "code",
   "execution_count": 27,
   "id": "af29bc0d-bb73-4e02-945e-fbe6999ac902",
   "metadata": {
    "tags": []
   },
   "outputs": [
    {
     "name": "stdout",
     "output_type": "stream",
     "text": [
      "                          Loan_Type  Requested_LoanAmount  \\\n",
      "Loan_SubType                                                \n",
      "Auto Refinance            Refinance              25775.00   \n",
      "Other Secured Loan        Refinance                  2.00   \n",
      "Auto Refinance            Refinance              21344.60   \n",
      "Auto Refinance            Refinance                568.00   \n",
      "Auto Refinance            Refinance                257.00   \n",
      "...                             ...                   ...   \n",
      "Auto Refinance            Refinance                347.40   \n",
      "Auto Refinance            Refinance              36932.40   \n",
      "Auto Refinance            Refinance              22745.82   \n",
      "Auto Refinance            Refinance                 25.00   \n",
      "Used Vehicle Loan   Dealer Purchase                 65.00   \n",
      "\n",
      "                    Approved_LoanAmount  Funded_LoanAmount Loan_Status  \\\n",
      "Loan_SubType                                                             \n",
      "Auto Refinance                 25961.98           25961.98    APPROVED   \n",
      "Other Secured Loan               228.00             228.00    APPROVED   \n",
      "Auto Refinance                 21377.60               0.00    APPROVED   \n",
      "Auto Refinance                  7641.36            7641.36    APPROVED   \n",
      "Auto Refinance                 25744.97           25744.97    APPROVED   \n",
      "...                                 ...                ...         ...   \n",
      "Auto Refinance                 28727.70           28727.70    APPROVED   \n",
      "Auto Refinance                  3715.93            3715.93    APPROVED   \n",
      "Auto Refinance                 22928.85           22928.85    APPROVED   \n",
      "Auto Refinance                  2622.33            2622.33    APPROVED   \n",
      "Used Vehicle Loan              74997.33           74997.33    APPROVED   \n",
      "\n",
      "                   Borrower_Type Applicant_State  Credit_Score Type_ofVehicle  \\\n",
      "Loan_SubType                                                                    \n",
      "Auto Refinance                 P              TX         670.0            CAR   \n",
      "Other Secured Loan             P              TX         712.0            CAR   \n",
      "Auto Refinance                 P              TX         664.0            CAR   \n",
      "Auto Refinance                 P              TX         670.0            CAR   \n",
      "Auto Refinance                 P              TX         622.0            CAR   \n",
      "...                          ...             ...           ...            ...   \n",
      "Auto Refinance                 P              AZ         749.0            CAR   \n",
      "Auto Refinance                 P              TX         707.0            CAR   \n",
      "Auto Refinance                 P              TX         691.0            CAR   \n",
      "Auto Refinance                 P              TX         658.0            CAR   \n",
      "Used Vehicle Loan              P              TX         736.0            CAR   \n",
      "\n",
      "                    Value_ofAsset  ...  Monthly_Income Monthly_debt DTI_Ratio  \\\n",
      "Loan_SubType                       ...                                          \n",
      "Auto Refinance            33525.0  ...             5.0         1.00    32.542   \n",
      "Other Secured Loan        33975.0  ...             8.0         2.00    26.861   \n",
      "Auto Refinance            25500.0  ...             6.0         1.00    20.326   \n",
      "Auto Refinance            17625.0  ...             2.0         1.00    46.422   \n",
      "Auto Refinance            33100.0  ...             5.0       645.25    11.061   \n",
      "...                           ...  ...             ...          ...       ...   \n",
      "Auto Refinance            24050.0  ...             3.0         1.00    39.811   \n",
      "Auto Refinance            39500.0  ...             4.0         1.00    38.482   \n",
      "Auto Refinance            22400.0  ...             2.0       480.67    18.487   \n",
      "Auto Refinance            33425.0  ...             4.0         1.00    31.643   \n",
      "Used Vehicle Loan         69550.0  ...             5.0         2.00    39.429   \n",
      "\n",
      "                    Monthly_LoanPayment  Age_of_Employment_in_Months  \\\n",
      "Loan_SubType                                                           \n",
      "Auto Refinance                   480.73                           45   \n",
      "Other Secured Loan               646.37                           52   \n",
      "Auto Refinance                     0.00                           12   \n",
      "Auto Refinance                   252.87                          269   \n",
      "Auto Refinance                   476.71                           96   \n",
      "...                                 ...                          ...   \n",
      "Auto Refinance                   510.76                           12   \n",
      "Auto Refinance                   611.50                           84   \n",
      "Auto Refinance                   415.67                           14   \n",
      "Auto Refinance                   472.27                           12   \n",
      "Used Vehicle Loan               1325.48                           73   \n",
      "\n",
      "                    Age_of_Employment_in_Years  Loan_SubType_Cat  \\\n",
      "Loan_SubType                                                       \n",
      "Auto Refinance                            3.75                 0   \n",
      "Other Secured Loan                        4.33                 3   \n",
      "Auto Refinance                            1.00                 0   \n",
      "Auto Refinance                           22.42                 0   \n",
      "Auto Refinance                            8.00                 0   \n",
      "...                                        ...               ...   \n",
      "Auto Refinance                            1.00                 0   \n",
      "Auto Refinance                            7.00                 0   \n",
      "Auto Refinance                            1.17                 0   \n",
      "Auto Refinance                            1.00                 0   \n",
      "Used Vehicle Loan                         6.08                 5   \n",
      "\n",
      "                    Loan_Type_Cat  Loan_Status_Cat  Borrower_Type_Cat  \n",
      "Loan_SubType                                                           \n",
      "Auto Refinance                  5                0                  0  \n",
      "Other Secured Loan              5                0                  0  \n",
      "Auto Refinance                  5                0                  0  \n",
      "Auto Refinance                  5                0                  0  \n",
      "Auto Refinance                  5                0                  0  \n",
      "...                           ...              ...                ...  \n",
      "Auto Refinance                  5                0                  0  \n",
      "Auto Refinance                  5                0                  0  \n",
      "Auto Refinance                  5                0                  0  \n",
      "Auto Refinance                  5                0                  0  \n",
      "Used Vehicle Loan               1                0                  0  \n",
      "\n",
      "[883 rows x 24 columns]\n"
     ]
    }
   ],
   "source": [
    "import pandas as pd\n",
    "from sklearn.model_selection import train_test_split\n",
    "from sklearn.neighbors import KNeighborsClassifier\n",
    "from sklearn.metrics import classification_report\n",
    "\n",
    "\n",
    "# Importing the new data file\n",
    "dataset = pd.read_csv('new_finance.csv', index_col=0)\n",
    "print(dataset)\n"
   ]
  },
  {
   "cell_type": "code",
   "execution_count": 29,
   "id": "537117e3-49f4-4a56-a35e-744acbab69c6",
   "metadata": {
    "tags": []
   },
   "outputs": [
    {
     "name": "stdout",
     "output_type": "stream",
     "text": [
      "Index(['Loan_Type', 'Requested_LoanAmount', 'Approved_LoanAmount',\n",
      "       'Funded_LoanAmount', 'Loan_Status', 'Borrower_Type', 'Applicant_State',\n",
      "       'Credit_Score', 'Type_ofVehicle', 'Value_ofAsset', 'LTV_Ratio',\n",
      "       'Loan_Class', 'Loan_Tier', 'Loan_Term', 'Monthly_Income',\n",
      "       'Monthly_debt', 'DTI_Ratio', 'Monthly_LoanPayment',\n",
      "       'Age_of_Employment_in_Months', 'Age_of_Employment_in_Years',\n",
      "       'Loan_SubType_Cat', 'Loan_Type_Cat', 'Loan_Status_Cat',\n",
      "       'Borrower_Type_Cat'],\n",
      "      dtype='object')\n"
     ]
    }
   ],
   "source": [
    "print(dataset.columns)"
   ]
  },
  {
   "cell_type": "code",
   "execution_count": 31,
   "id": "a15e6cf9-56c0-41d9-b1e8-e01bbef3da23",
   "metadata": {
    "tags": []
   },
   "outputs": [],
   "source": [
    "# Dropping duplicate categorical variables\n",
    "dataset.drop(['Loan_Type', 'Loan_Status', 'Borrower_Type', 'Applicant_State', 'Type_ofVehicle', 'Loan_Class', 'Loan_Tier'], axis=1, inplace=True)\n"
   ]
  },
  {
   "cell_type": "code",
   "execution_count": 33,
   "id": "680e6221-0042-46a3-a523-8bbeee10f264",
   "metadata": {
    "tags": []
   },
   "outputs": [
    {
     "name": "stdout",
     "output_type": "stream",
     "text": [
      "Index(['Requested_LoanAmount', 'Approved_LoanAmount', 'Funded_LoanAmount',\n",
      "       'Credit_Score', 'Value_ofAsset', 'LTV_Ratio', 'Loan_Term',\n",
      "       'Monthly_Income', 'Monthly_debt', 'DTI_Ratio', 'Monthly_LoanPayment',\n",
      "       'Age_of_Employment_in_Months', 'Age_of_Employment_in_Years',\n",
      "       'Loan_SubType_Cat', 'Loan_Type_Cat', 'Loan_Status_Cat',\n",
      "       'Borrower_Type_Cat'],\n",
      "      dtype='object')\n"
     ]
    }
   ],
   "source": [
    "print(dataset.columns)\n"
   ]
  },
  {
   "cell_type": "code",
   "execution_count": 35,
   "id": "82a63c57-8411-4c23-a95a-507b90a7aa78",
   "metadata": {
    "tags": []
   },
   "outputs": [],
   "source": [
    "X = dataset.drop('Loan_Status_Cat', axis=1)\n",
    "y = dataset['Loan_Status_Cat']\n",
    "X_train, X_test, y_train, y_test = train_test_split(X, y, test_size=0.25, random_state=42)\n"
   ]
  },
  {
   "cell_type": "code",
   "execution_count": 37,
   "id": "d6b142b2-971a-4403-98e2-c19b0fbc2dd0",
   "metadata": {
    "tags": []
   },
   "outputs": [
    {
     "data": {
      "text/html": [
       "<style>#sk-container-id-2 {color: black;background-color: white;}#sk-container-id-2 pre{padding: 0;}#sk-container-id-2 div.sk-toggleable {background-color: white;}#sk-container-id-2 label.sk-toggleable__label {cursor: pointer;display: block;width: 100%;margin-bottom: 0;padding: 0.3em;box-sizing: border-box;text-align: center;}#sk-container-id-2 label.sk-toggleable__label-arrow:before {content: \"▸\";float: left;margin-right: 0.25em;color: #696969;}#sk-container-id-2 label.sk-toggleable__label-arrow:hover:before {color: black;}#sk-container-id-2 div.sk-estimator:hover label.sk-toggleable__label-arrow:before {color: black;}#sk-container-id-2 div.sk-toggleable__content {max-height: 0;max-width: 0;overflow: hidden;text-align: left;background-color: #f0f8ff;}#sk-container-id-2 div.sk-toggleable__content pre {margin: 0.2em;color: black;border-radius: 0.25em;background-color: #f0f8ff;}#sk-container-id-2 input.sk-toggleable__control:checked~div.sk-toggleable__content {max-height: 200px;max-width: 100%;overflow: auto;}#sk-container-id-2 input.sk-toggleable__control:checked~label.sk-toggleable__label-arrow:before {content: \"▾\";}#sk-container-id-2 div.sk-estimator input.sk-toggleable__control:checked~label.sk-toggleable__label {background-color: #d4ebff;}#sk-container-id-2 div.sk-label input.sk-toggleable__control:checked~label.sk-toggleable__label {background-color: #d4ebff;}#sk-container-id-2 input.sk-hidden--visually {border: 0;clip: rect(1px 1px 1px 1px);clip: rect(1px, 1px, 1px, 1px);height: 1px;margin: -1px;overflow: hidden;padding: 0;position: absolute;width: 1px;}#sk-container-id-2 div.sk-estimator {font-family: monospace;background-color: #f0f8ff;border: 1px dotted black;border-radius: 0.25em;box-sizing: border-box;margin-bottom: 0.5em;}#sk-container-id-2 div.sk-estimator:hover {background-color: #d4ebff;}#sk-container-id-2 div.sk-parallel-item::after {content: \"\";width: 100%;border-bottom: 1px solid gray;flex-grow: 1;}#sk-container-id-2 div.sk-label:hover label.sk-toggleable__label {background-color: #d4ebff;}#sk-container-id-2 div.sk-serial::before {content: \"\";position: absolute;border-left: 1px solid gray;box-sizing: border-box;top: 0;bottom: 0;left: 50%;z-index: 0;}#sk-container-id-2 div.sk-serial {display: flex;flex-direction: column;align-items: center;background-color: white;padding-right: 0.2em;padding-left: 0.2em;position: relative;}#sk-container-id-2 div.sk-item {position: relative;z-index: 1;}#sk-container-id-2 div.sk-parallel {display: flex;align-items: stretch;justify-content: center;background-color: white;position: relative;}#sk-container-id-2 div.sk-item::before, #sk-container-id-2 div.sk-parallel-item::before {content: \"\";position: absolute;border-left: 1px solid gray;box-sizing: border-box;top: 0;bottom: 0;left: 50%;z-index: -1;}#sk-container-id-2 div.sk-parallel-item {display: flex;flex-direction: column;z-index: 1;position: relative;background-color: white;}#sk-container-id-2 div.sk-parallel-item:first-child::after {align-self: flex-end;width: 50%;}#sk-container-id-2 div.sk-parallel-item:last-child::after {align-self: flex-start;width: 50%;}#sk-container-id-2 div.sk-parallel-item:only-child::after {width: 0;}#sk-container-id-2 div.sk-dashed-wrapped {border: 1px dashed gray;margin: 0 0.4em 0.5em 0.4em;box-sizing: border-box;padding-bottom: 0.4em;background-color: white;}#sk-container-id-2 div.sk-label label {font-family: monospace;font-weight: bold;display: inline-block;line-height: 1.2em;}#sk-container-id-2 div.sk-label-container {text-align: center;}#sk-container-id-2 div.sk-container {/* jupyter's `normalize.less` sets `[hidden] { display: none; }` but bootstrap.min.css set `[hidden] { display: none !important; }` so we also need the `!important` here to be able to override the default hidden behavior on the sphinx rendered scikit-learn.org. See: https://github.com/scikit-learn/scikit-learn/issues/21755 */display: inline-block !important;position: relative;}#sk-container-id-2 div.sk-text-repr-fallback {display: none;}</style><div id=\"sk-container-id-2\" class=\"sk-top-container\"><div class=\"sk-text-repr-fallback\"><pre>KNeighborsClassifier()</pre><b>In a Jupyter environment, please rerun this cell to show the HTML representation or trust the notebook. <br />On GitHub, the HTML representation is unable to render, please try loading this page with nbviewer.org.</b></div><div class=\"sk-container\" hidden><div class=\"sk-item\"><div class=\"sk-estimator sk-toggleable\"><input class=\"sk-toggleable__control sk-hidden--visually\" id=\"sk-estimator-id-2\" type=\"checkbox\" checked><label for=\"sk-estimator-id-2\" class=\"sk-toggleable__label sk-toggleable__label-arrow\">KNeighborsClassifier</label><div class=\"sk-toggleable__content\"><pre>KNeighborsClassifier()</pre></div></div></div></div></div>"
      ],
      "text/plain": [
       "KNeighborsClassifier()"
      ]
     },
     "execution_count": 37,
     "metadata": {},
     "output_type": "execute_result"
    }
   ],
   "source": [
    "knn = KNeighborsClassifier()\n",
    "knn.fit(X_train, y_train)"
   ]
  },
  {
   "cell_type": "code",
   "execution_count": 39,
   "id": "d70e7692-39e1-4bfc-8e0f-52f4b243935e",
   "metadata": {
    "tags": []
   },
   "outputs": [],
   "source": [
    "y_pred = knn.predict(X_test)"
   ]
  },
  {
   "cell_type": "code",
   "execution_count": 41,
   "id": "4acb1a5f-cd9c-4a75-9f94-cb3be3c63958",
   "metadata": {
    "tags": []
   },
   "outputs": [
    {
     "name": "stdout",
     "output_type": "stream",
     "text": [
      "              precision    recall  f1-score   support\n",
      "\n",
      "           0       0.90      0.96      0.93       195\n",
      "           1       0.38      0.19      0.26        26\n",
      "\n",
      "    accuracy                           0.87       221\n",
      "   macro avg       0.64      0.58      0.59       221\n",
      "weighted avg       0.84      0.87      0.85       221\n",
      "\n"
     ]
    }
   ],
   "source": [
    "print(classification_report(y_test, y_pred))"
   ]
  },
  {
   "cell_type": "code",
   "execution_count": null,
   "id": "f78a879b-7312-41f9-bbd4-194559e56ba1",
   "metadata": {},
   "outputs": [],
   "source": []
  },
  {
   "cell_type": "code",
   "execution_count": null,
   "id": "7f584866-ab1d-4b8b-b621-6e6c34106a09",
   "metadata": {},
   "outputs": [],
   "source": []
  },
  {
   "cell_type": "code",
   "execution_count": null,
   "id": "b8d30c00-5ad9-4573-b322-ec29616bc675",
   "metadata": {},
   "outputs": [],
   "source": []
  }
 ],
 "metadata": {
  "kernelspec": {
   "display_name": "Python 3 (ipykernel)",
   "language": "python",
   "name": "python3"
  },
  "language_info": {
   "codemirror_mode": {
    "name": "ipython",
    "version": 3
   },
   "file_extension": ".py",
   "mimetype": "text/x-python",
   "name": "python",
   "nbconvert_exporter": "python",
   "pygments_lexer": "ipython3",
   "version": "3.11.5"
  }
 },
 "nbformat": 4,
 "nbformat_minor": 5
}

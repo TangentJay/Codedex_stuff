{
 "cells": [
  {
   "cell_type": "markdown",
   "id": "c67cbbfe-de00-4acd-b484-9e39cfe48181",
   "metadata": {},
   "source": [
    "# Step 1: importing all necessary libraries"
   ]
  },
  {
   "cell_type": "code",
   "execution_count": 5,
   "id": "bd8aac6b-871b-472b-9b0d-cbc8e8ca4846",
   "metadata": {
    "tags": []
   },
   "outputs": [],
   "source": [
    "\n",
    "import pandas as pd\n",
    "import sklearn as sk\n",
    "import numpy as np\n",
    "from sklearn.preprocessing import LabelEncoder"
   ]
  },
  {
   "cell_type": "markdown",
   "id": "fdf108d8-970a-4bc2-9ef3-99b68b003662",
   "metadata": {},
   "source": [
    "# Step 2: import the dataset"
   ]
  },
  {
   "cell_type": "code",
   "execution_count": 7,
   "id": "dfe7fafb-12a9-41c6-9d60-786775e8a602",
   "metadata": {
    "tags": []
   },
   "outputs": [],
   "source": [
    "fin = pd.read_csv('Finance_data.csv')\n"
   ]
  },
  {
   "cell_type": "markdown",
   "id": "ae1c66bf-7e9d-4068-812b-e1c58e58042c",
   "metadata": {},
   "source": [
    "# Step 3: write the code for viewing the first few rows of the dataset"
   ]
  },
  {
   "cell_type": "code",
   "execution_count": 9,
   "id": "d2b2bb73-5aef-476d-bb90-a935bc15ffcc",
   "metadata": {
    "tags": []
   },
   "outputs": [
    {
     "name": "stdout",
     "output_type": "stream",
     "text": [
      "   BranchID Application_Date        Loan_SubType Loan_Purpose  Loan_Type  \\\n",
      "0       103         6/1/2022      Auto Refinance      VEHICLE  Refinance   \n",
      "1       103         6/1/2022      Auto Refinance      VEHICLE  Refinance   \n",
      "2       604         6/1/2022  Other Secured Loan      VEHICLE  Refinance   \n",
      "3       810         6/1/2022      Auto Refinance      VEHICLE  Refinance   \n",
      "4       682         6/1/2022      Auto Refinance      VEHICLE  Refinance   \n",
      "\n",
      "   Requested_LoanAmount  Approved_LoanAmount  Funded_LoanAmount Loan_Status  \\\n",
      "0               25775.0             25961.98           25961.98    APPROVED   \n",
      "1               25775.0             25961.98           25961.98    APPROVED   \n",
      "2                   2.0               228.00             228.00    APPROVED   \n",
      "3               21344.6             21377.60                NaN    APPROVED   \n",
      "4                 568.0              7641.36            7641.36    APPROVED   \n",
      "\n",
      "  Declined Date  ...    Loan_Class         Loan_Tier Loan_Term Monthly_Income  \\\n",
      "0           NaN  ...     3 YR USED               NaN        66            5.0   \n",
      "1           NaN  ...     3 YR USED  1.tov-Vehicle T3        66            5.0   \n",
      "2           NaN  ...  6-10 YR USED  1.tov-Vehicle T2        36            8.0   \n",
      "3           NaN  ...     2 YR USED  1.tov-Vehicle T3        66            6.0   \n",
      "4           NaN  ...  6-10 YR USED  1.tov-Vehicle T3        36            2.0   \n",
      "\n",
      "  Monthly_debt  DTI_Ratio Monthly_LoanPayment  Age_of_Employment_in_Months  \\\n",
      "0          1.0     32.542              480.73                           14   \n",
      "1          1.0     32.542              480.73                           45   \n",
      "2          2.0     26.861              646.37                           52   \n",
      "3          1.0     20.326                0.00                           12   \n",
      "4          1.0     46.422              252.87                          269   \n",
      "\n",
      "   Age_of_Employment_in_Years Denial Reasons  \n",
      "0                        1.17            NaN  \n",
      "1                        3.75            NaN  \n",
      "2                        4.33            NaN  \n",
      "3                        1.00            NaN  \n",
      "4                       22.42            NaN  \n",
      "\n",
      "[5 rows x 29 columns]\n"
     ]
    }
   ],
   "source": [
    "print(fin.head())"
   ]
  },
  {
   "cell_type": "markdown",
   "id": "c0ecda78-bfa2-4edd-96d7-13d1b4ba5850",
   "metadata": {},
   "source": [
    "# Step 4: drop unwanted variables"
   ]
  },
  {
   "cell_type": "code",
   "execution_count": 11,
   "id": "bbf33719-1d09-4f5a-b191-b0609f0705ec",
   "metadata": {
    "tags": []
   },
   "outputs": [],
   "source": [
    "fin2 = ['Loan_Purpose', 'BranchID', 'Application_Date', 'Declined Date', \n",
    "                      'Deciding Date', 'Approved Date', 'Funded Date', 'Denial Reasons']\n",
    "fin = fin.drop(columns=fin2)\n",
    "\n"
   ]
  },
  {
   "cell_type": "markdown",
   "id": "1fbe2049-a295-4941-b4f0-4ce82b32a108",
   "metadata": {},
   "source": [
    "# Step 5: viewing statistical information about the dataset\n",
    "\n",
    "# Summary: This provides an overview of the numerical variables in the dataset.\n",
    "# We can see the mean, standard deviation, quartiles, etc., for each numeric column."
   ]
  },
  {
   "cell_type": "code",
   "execution_count": 13,
   "id": "fe6f2c40-7ed7-4657-a4f7-4478f7000a86",
   "metadata": {
    "tags": []
   },
   "outputs": [
    {
     "name": "stdout",
     "output_type": "stream",
     "text": [
      "\n",
      " Descriptive statistics: \n",
      "       Requested_LoanAmount  Approved_LoanAmount  Funded_LoanAmount  \\\n",
      "count           1013.000000           1013.00000         774.000000   \n",
      "mean            9997.712053          16544.08311       16612.772416   \n",
      "std            16022.718415          17120.14254       17521.820750   \n",
      "min                1.000000              3.00000           2.000000   \n",
      "25%               18.000000           2139.13000        2113.200000   \n",
      "50%              165.000000          11728.10000       11943.330000   \n",
      "75%            16635.490000          27281.47000       27075.827500   \n",
      "max            87379.120000          88465.41000       88465.410000   \n",
      "\n",
      "       Credit_Score  Value_ofAsset  LTV_Ratio    Loan_Term  Monthly_Income  \\\n",
      "count    980.000000    1013.000000     1013.0  1013.000000     1013.000000   \n",
      "mean     697.791837   29748.490681        0.0    55.320829       10.494255   \n",
      "std       52.401993   14910.917280        0.0    15.022011       67.625338   \n",
      "min      620.000000       0.000000        0.0    12.000000        1.000000   \n",
      "25%      656.000000   20550.000000        0.0    46.000000        3.000000   \n",
      "50%      690.000000   27650.000000        0.0    61.000000        4.000000   \n",
      "75%      732.000000   37475.000000        0.0    66.000000        7.000000   \n",
      "max      850.000000   93695.000000        0.0    72.000000      996.250000   \n",
      "\n",
      "       Monthly_debt    DTI_Ratio  Monthly_LoanPayment  \\\n",
      "count   1013.000000  1013.000000          1013.000000   \n",
      "mean     227.149516    29.679517           403.931955   \n",
      "std      333.373591    15.623288           333.836206   \n",
      "min        1.000000     1.003000             0.000000   \n",
      "25%        1.000000    19.838000           118.730000   \n",
      "50%        2.000000    29.048000           389.080000   \n",
      "75%      519.960000    38.968000           603.790000   \n",
      "max      998.720000   307.045000          1810.770000   \n",
      "\n",
      "       Age_of_Employment_in_Months  Age_of_Employment_in_Years  \n",
      "count                  1013.000000                 1013.000000  \n",
      "mean                     80.232971                    6.685982  \n",
      "std                      89.499084                    7.458336  \n",
      "min                       0.000000                    0.000000  \n",
      "25%                      18.000000                    1.500000  \n",
      "50%                      48.000000                    4.000000  \n",
      "75%                     108.000000                    9.000000  \n",
      "max                     600.000000                   50.000000  \n"
     ]
    }
   ],
   "source": [
    "print(\"\\n Descriptive statistics: \")\n",
    "print(fin.describe())"
   ]
  },
  {
   "cell_type": "markdown",
   "id": "34c3f741-a603-426b-a0fb-f958009ce0ce",
   "metadata": {},
   "source": [
    "# Step 6: Check for missing data"
   ]
  },
  {
   "cell_type": "code",
   "execution_count": 15,
   "id": "eebfc25b-10bb-44ca-9c25-131405399c4e",
   "metadata": {
    "tags": []
   },
   "outputs": [
    {
     "name": "stdout",
     "output_type": "stream",
     "text": [
      "\n",
      "Missing data information:\n",
      "Loan_SubType                     0\n",
      "Loan_Type                        0\n",
      "Requested_LoanAmount             0\n",
      "Approved_LoanAmount              0\n",
      "Funded_LoanAmount              239\n",
      "Loan_Status                      0\n",
      "Borrower_Type                    0\n",
      "Applicant_State                  0\n",
      "Credit_Score                    33\n",
      "Type_ofVehicle                   0\n",
      "Value_ofAsset                    0\n",
      "LTV_Ratio                        0\n",
      "Loan_Class                       0\n",
      "Loan_Tier                      130\n",
      "Loan_Term                        0\n",
      "Monthly_Income                   0\n",
      "Monthly_debt                     0\n",
      "DTI_Ratio                        0\n",
      "Monthly_LoanPayment              0\n",
      "Age_of_Employment_in_Months      0\n",
      "Age_of_Employment_in_Years       0\n",
      "dtype: int64\n"
     ]
    }
   ],
   "source": [
    "print(\"\\nMissing data information:\")\n",
    "print(fin.isnull().sum())"
   ]
  },
  {
   "cell_type": "markdown",
   "id": "4d45ae92-3a3a-4e13-8b84-fc2d959452de",
   "metadata": {},
   "source": [
    "# Step 7: Handle missing data (categorical vs. numeric)\n",
    "# Drop rows with missing values in 'Loan Tier' (categorical)"
   ]
  },
  {
   "cell_type": "code",
   "execution_count": 17,
   "id": "37eaa767-faa3-4f1a-b240-650ece142fe6",
   "metadata": {
    "tags": []
   },
   "outputs": [],
   "source": [
    "\n",
    "fin = fin.dropna(subset=['Loan_Tier'])\n"
   ]
  },
  {
   "cell_type": "code",
   "execution_count": 18,
   "id": "75048c58-691f-49ed-a423-0677e20270e6",
   "metadata": {
    "tags": []
   },
   "outputs": [
    {
     "name": "stdout",
     "output_type": "stream",
     "text": [
      "Index(['Loan_SubType', 'Loan_Type', 'Requested_LoanAmount',\n",
      "       'Approved_LoanAmount', 'Funded_LoanAmount', 'Loan_Status',\n",
      "       'Borrower_Type', 'Applicant_State', 'Credit_Score', 'Type_ofVehicle',\n",
      "       'Value_ofAsset', 'LTV_Ratio', 'Loan_Class', 'Loan_Tier', 'Loan_Term',\n",
      "       'Monthly_Income', 'Monthly_debt', 'DTI_Ratio', 'Monthly_LoanPayment',\n",
      "       'Age_of_Employment_in_Months', 'Age_of_Employment_in_Years'],\n",
      "      dtype='object')\n"
     ]
    }
   ],
   "source": [
    "print(fin.columns)\n"
   ]
  },
  {
   "cell_type": "markdown",
   "id": "d8a66f32-3c78-4d15-83df-b0829ab3af8f",
   "metadata": {},
   "source": [
    "# Step 8: Verify missing data resolved"
   ]
  },
  {
   "cell_type": "code",
   "execution_count": 20,
   "id": "deedc1ea-0aa9-47f3-9d0b-a8fa0f0713f7",
   "metadata": {
    "tags": []
   },
   "outputs": [
    {
     "name": "stdout",
     "output_type": "stream",
     "text": [
      "\n",
      "Missing data information after handling:\n",
      "Loan_SubType                     0\n",
      "Loan_Type                        0\n",
      "Requested_LoanAmount             0\n",
      "Approved_LoanAmount              0\n",
      "Funded_LoanAmount              207\n",
      "Loan_Status                      0\n",
      "Borrower_Type                    0\n",
      "Applicant_State                  0\n",
      "Credit_Score                    19\n",
      "Type_ofVehicle                   0\n",
      "Value_ofAsset                    0\n",
      "LTV_Ratio                        0\n",
      "Loan_Class                       0\n",
      "Loan_Tier                        0\n",
      "Loan_Term                        0\n",
      "Monthly_Income                   0\n",
      "Monthly_debt                     0\n",
      "DTI_Ratio                        0\n",
      "Monthly_LoanPayment              0\n",
      "Age_of_Employment_in_Months      0\n",
      "Age_of_Employment_in_Years       0\n",
      "dtype: int64\n"
     ]
    }
   ],
   "source": [
    "print(\"\\nMissing data information after handling:\")\n",
    "print(fin.isnull().sum())  "
   ]
  },
  {
   "cell_type": "markdown",
   "id": "70927cdf-a96c-4002-b3a8-ef70dfa973a9",
   "metadata": {},
   "source": [
    "# Step 9: Label encoding for categorical variables"
   ]
  },
  {
   "cell_type": "code",
   "execution_count": 22,
   "id": "69017cac-b28c-442d-87de-70c2b7feabfc",
   "metadata": {
    "tags": []
   },
   "outputs": [
    {
     "name": "stdout",
     "output_type": "stream",
     "text": [
      "Column 'Type_of_Vehicle' does not exist in the dataframe.\n"
     ]
    }
   ],
   "source": [
    "\n",
    "cate = ['Loan_SubType', 'Loan_Type', 'Loan_Status',\n",
    "                        'Borrower_Type', 'Applicant_State', 'Type_of_Vehicle',\n",
    "                        'Loan_Class']\n",
    "\n",
    "for col in cate:\n",
    "    le = LabelEncoder()\n",
    "    if col in fin.columns:\n",
    "        fin[col + '_Cat'] = le.fit_transform(fin[col])\n",
    "    else:\n",
    "        print(f\"Column '{col}' does not exist in the dataframe.\")"
   ]
  },
  {
   "cell_type": "markdown",
   "id": "662870fd-33ca-4c41-bc9d-18d52269a077",
   "metadata": {},
   "source": [
    "# Step 10: Examine encoded categorical variables"
   ]
  },
  {
   "cell_type": "code",
   "execution_count": 24,
   "id": "d2fd24ed-9883-418c-b03b-f3b6fbd3f1e0",
   "metadata": {
    "tags": []
   },
   "outputs": [
    {
     "name": "stdout",
     "output_type": "stream",
     "text": [
      "\n",
      "encoded categorical variables:\n",
      "   Loan_SubType_Cat        Loan_SubType\n",
      "1                 0      Auto Refinance\n",
      "2                 3  Other Secured Loan\n",
      "3                 0      Auto Refinance\n",
      "4                 0      Auto Refinance\n",
      "5                 0      Auto Refinance\n",
      "   Loan_Type_Cat  Loan_Type\n",
      "1              5  Refinance\n",
      "2              5  Refinance\n",
      "3              5  Refinance\n",
      "4              5  Refinance\n",
      "5              5  Refinance\n",
      "   Loan_Status_Cat Loan_Status\n",
      "1                0    APPROVED\n",
      "2                0    APPROVED\n",
      "3                0    APPROVED\n",
      "4                0    APPROVED\n",
      "5                0    APPROVED\n",
      "   Borrower_Type_Cat Borrower_Type\n",
      "1                  0             P\n",
      "2                  0             P\n",
      "3                  0             P\n",
      "4                  0             P\n",
      "5                  0             P\n",
      "   Applicant_State_Cat Applicant_State\n",
      "1                   11              TX\n",
      "2                   11              TX\n",
      "3                   11              TX\n",
      "4                   11              TX\n",
      "5                   11              TX\n",
      "   Loan_Class_Cat    Loan_Class\n",
      "1               6     3 YR USED\n",
      "2              12  6-10 YR USED\n",
      "3               4     2 YR USED\n",
      "4              12  6-10 YR USED\n",
      "5               6     3 YR USED\n"
     ]
    }
   ],
   "source": [
    "print(\"\\nencoded categorical variables:\")\n",
    "for col in cate:\n",
    "    if col + '_Cat' in fin.columns:  \n",
    "        print(fin[[col + '_Cat', col]].head())"
   ]
  },
  {
   "cell_type": "markdown",
   "id": "826332f7-b11e-438d-9fbf-84d184bdd775",
   "metadata": {},
   "source": [
    "# Step 11: Perform label encoding for all other categorical columns"
   ]
  },
  {
   "cell_type": "code",
   "execution_count": 26,
   "id": "27646a9f-9f82-4f62-be48-dde2ce2d74ad",
   "metadata": {
    "tags": []
   },
   "outputs": [
    {
     "name": "stdout",
     "output_type": "stream",
     "text": [
      "\n",
      "Cate names and assigned codes for all encoded categorical variables:\n",
      "   Loan_SubType_Cat        Loan_SubType\n",
      "1                 0      Auto Refinance\n",
      "2                 3  Other Secured Loan\n",
      "3                 0      Auto Refinance\n",
      "4                 0      Auto Refinance\n",
      "5                 0      Auto Refinance\n",
      "   Loan_Type_Cat  Loan_Type\n",
      "1              5  Refinance\n",
      "2              5  Refinance\n",
      "3              5  Refinance\n",
      "4              5  Refinance\n",
      "5              5  Refinance\n",
      "   Loan_Status_Cat Loan_Status\n",
      "1                0    APPROVED\n",
      "2                0    APPROVED\n",
      "3                0    APPROVED\n",
      "4                0    APPROVED\n",
      "5                0    APPROVED\n",
      "   Borrower_Type_Cat Borrower_Type\n",
      "1                  0             P\n",
      "2                  0             P\n",
      "3                  0             P\n",
      "4                  0             P\n",
      "5                  0             P\n",
      "   Applicant_State_Cat Applicant_State\n",
      "1                   11              TX\n",
      "2                   11              TX\n",
      "3                   11              TX\n",
      "4                   11              TX\n",
      "5                   11              TX\n",
      "   Loan_Class_Cat    Loan_Class\n",
      "1               6     3 YR USED\n",
      "2              12  6-10 YR USED\n",
      "3               4     2 YR USED\n",
      "4              12  6-10 YR USED\n",
      "5               6     3 YR USED\n"
     ]
    }
   ],
   "source": [
    "# Step 11: Perform label encoding for all other categorical columns\n",
    "for col in cate[1:]:  \n",
    "    if col in fin.columns:  # Check if the column exists in the dataframe\n",
    "        le = LabelEncoder()\n",
    "        fin[col + '_Cat'] = le.fit_transform(fin[col])\n",
    "\n",
    "# To see the category name and assigned code for all encoded categorical variables\n",
    "print(\"\\nCate names and assigned codes for all encoded categorical variables:\")\n",
    "for col in cate:\n",
    "    if col + '_Cat' in fin.columns:  # Check if the encoded column exists in the dataframe\n",
    "        print(fin[[col + '_Cat', col]].head())"
   ]
  },
  {
   "cell_type": "markdown",
   "id": "fbfb15f7-eea9-49c6-8c4d-e453dac0e009",
   "metadata": {},
   "source": [
    "# Step 12: Save preprocessed data to a new CSV file"
   ]
  },
  {
   "cell_type": "code",
   "execution_count": 28,
   "id": "8602daf6-c42c-461a-a403-bce36687e371",
   "metadata": {
    "tags": []
   },
   "outputs": [],
   "source": [
    "fin.to_csv('milestone1.csv', index=False)"
   ]
  },
  {
   "cell_type": "markdown",
   "id": "9aa21c9b-2be1-49c3-8337-122279a5bafe",
   "metadata": {},
   "source": [
    "# Step 13: Count records in the new CSV file"
   ]
  },
  {
   "cell_type": "code",
   "execution_count": 30,
   "id": "1f66713c-f443-48db-b2a7-cda8395d9a49",
   "metadata": {
    "tags": []
   },
   "outputs": [
    {
     "name": "stdout",
     "output_type": "stream",
     "text": [
      "\n",
      "Number of records in 'milestone1.csv': 883\n"
     ]
    }
   ],
   "source": [
    "num_records = len(fin)\n",
    "print(f\"\\nNumber of records in 'milestone1.csv': {num_records}\")\n"
   ]
  },
  {
   "cell_type": "code",
   "execution_count": null,
   "id": "cea354c2-87b5-4b42-9cf7-e0c6e898a952",
   "metadata": {},
   "outputs": [],
   "source": []
  }
 ],
 "metadata": {
  "kernelspec": {
   "display_name": "Python 3 (ipykernel)",
   "language": "python",
   "name": "python3"
  },
  "language_info": {
   "codemirror_mode": {
    "name": "ipython",
    "version": 3
   },
   "file_extension": ".py",
   "mimetype": "text/x-python",
   "name": "python",
   "nbconvert_exporter": "python",
   "pygments_lexer": "ipython3",
   "version": "3.11.5"
  }
 },
 "nbformat": 4,
 "nbformat_minor": 5
}

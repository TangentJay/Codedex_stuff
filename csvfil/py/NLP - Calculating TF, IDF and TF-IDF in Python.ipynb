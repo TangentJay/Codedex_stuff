{
 "cells": [
  {
   "cell_type": "code",
   "execution_count": 1,
   "id": "eaa11a7f",
   "metadata": {},
   "outputs": [],
   "source": [
    "from bs4 import BeautifulSoup"
   ]
  },
  {
   "cell_type": "code",
   "execution_count": 4,
   "id": "23623613",
   "metadata": {},
   "outputs": [],
   "source": [
    "def cleanHtml(html):\n",
    "    if html == \"\": return \"\"\n",
    "    return BeautifulSoup(html, 'html5lib').get_text()\n",
    "\n",
    "#txt = \"Don&#39;t forget about HTML entities and <strong>markup</strong> when mining text!<br/>\"\n",
    "\n",
    "txt = \"&#169; 2022 Texas A&amp;M University - Central Texas | A member of the Texas A&amp;M University System\""
   ]
  },
  {
   "cell_type": "code",
   "execution_count": 5,
   "id": "c9c1f005",
   "metadata": {},
   "outputs": [
    {
     "name": "stdout",
     "output_type": "stream",
     "text": [
      "© 2022 Texas A&M University - Central Texas | A member of the Texas A&M University System\n"
     ]
    }
   ],
   "source": [
    "print(cleanHtml(txt))"
   ]
  },
  {
   "cell_type": "code",
   "execution_count": 6,
   "id": "c98905eb",
   "metadata": {},
   "outputs": [],
   "source": [
    "corpus = {\n",
    "    'a': \"Mr. Green killed Colonel Mustard in the study with the candlestick. Mr. Green is not a very nice fellow.\",\n",
    "    'b': \"Professor Plum has a green plant in his study.\",\n",
    "    'c': \"Miss Scarlett watered Professor Plum's green plant while he was away from his office last week.\"\n",
    "}"
   ]
  },
  {
   "cell_type": "code",
   "execution_count": 7,
   "id": "335d69c3",
   "metadata": {},
   "outputs": [
    {
     "data": {
      "text/plain": [
       "{'a': 'Mr. Green killed Colonel Mustard in the study with the candlestick. Mr. Green is not a very nice fellow.',\n",
       " 'b': 'Professor Plum has a green plant in his study.',\n",
       " 'c': \"Miss Scarlett watered Professor Plum's green plant while he was away from his office last week.\"}"
      ]
     },
     "execution_count": 7,
     "metadata": {},
     "output_type": "execute_result"
    }
   ],
   "source": [
    "corpus"
   ]
  },
  {
   "cell_type": "code",
   "execution_count": 8,
   "id": "b5a59fd5",
   "metadata": {},
   "outputs": [],
   "source": [
    "terms = {\n",
    "    'a': [i.lower() for i in corpus['a'].split()],\n",
    "    'b': [i.lower() for i in corpus['b'].split()],\n",
    "    'c': [i.lower() for i in corpus['c'].split()]    \n",
    "}"
   ]
  },
  {
   "cell_type": "code",
   "execution_count": 9,
   "id": "8a8a171e",
   "metadata": {},
   "outputs": [
    {
     "data": {
      "text/plain": [
       "'Mr. Green killed Colonel Mustard in the study with the candlestick. Mr. Green is not a very nice fellow.'"
      ]
     },
     "execution_count": 9,
     "metadata": {},
     "output_type": "execute_result"
    }
   ],
   "source": [
    "corpus['a']"
   ]
  },
  {
   "cell_type": "code",
   "execution_count": 10,
   "id": "e65a008e",
   "metadata": {},
   "outputs": [
    {
     "data": {
      "text/plain": [
       "['mr.',\n",
       " 'green',\n",
       " 'killed',\n",
       " 'colonel',\n",
       " 'mustard',\n",
       " 'in',\n",
       " 'the',\n",
       " 'study',\n",
       " 'with',\n",
       " 'the',\n",
       " 'candlestick.',\n",
       " 'mr.',\n",
       " 'green',\n",
       " 'is',\n",
       " 'not',\n",
       " 'a',\n",
       " 'very',\n",
       " 'nice',\n",
       " 'fellow.']"
      ]
     },
     "execution_count": 10,
     "metadata": {},
     "output_type": "execute_result"
    }
   ],
   "source": [
    "terms['a']"
   ]
  },
  {
   "cell_type": "code",
   "execution_count": 11,
   "id": "5cbc4048",
   "metadata": {},
   "outputs": [],
   "source": [
    "from math import log"
   ]
  },
  {
   "cell_type": "code",
   "execution_count": 12,
   "id": "7e4fe6b3",
   "metadata": {},
   "outputs": [],
   "source": [
    "QUERY_TERMS = ['mr.', 'green']"
   ]
  },
  {
   "cell_type": "code",
   "execution_count": 13,
   "id": "149417e8",
   "metadata": {},
   "outputs": [],
   "source": [
    "def tf(term, doc, normalize=True):\n",
    "    doc=doc.lower().split()\n",
    "    if normalize:\n",
    "        return doc.count(term.lower())/float(len(doc))\n",
    "    else:\n",
    "        return doc.count(term.lower())/1.0"
   ]
  },
  {
   "cell_type": "code",
   "execution_count": 20,
   "id": "a978c82a",
   "metadata": {},
   "outputs": [],
   "source": [
    "a=corpus['a']"
   ]
  },
  {
   "cell_type": "code",
   "execution_count": 25,
   "id": "41f00ade",
   "metadata": {},
   "outputs": [
    {
     "data": {
      "text/plain": [
       "0.10526315789473684"
      ]
     },
     "execution_count": 25,
     "metadata": {},
     "output_type": "execute_result"
    }
   ],
   "source": [
    "tf(\"mr.\",a)"
   ]
  },
  {
   "cell_type": "code",
   "execution_count": 26,
   "id": "224fc345",
   "metadata": {},
   "outputs": [
    {
     "data": {
      "text/plain": [
       "0.10526315789473684"
      ]
     },
     "execution_count": 26,
     "metadata": {},
     "output_type": "execute_result"
    }
   ],
   "source": [
    "2/19"
   ]
  },
  {
   "cell_type": "code",
   "execution_count": 27,
   "id": "deee6a84",
   "metadata": {},
   "outputs": [],
   "source": [
    "def idf(term, corpus):\n",
    "    num_texts_with_term = len([True for text in corpus if term.lower() in text.lower().split()])\n",
    "    try:\n",
    "        return 1.0+log(float(len(corpus))/num_texts_with_term)\n",
    "    except:\n",
    "        return 1.0"
   ]
  },
  {
   "cell_type": "code",
   "execution_count": 31,
   "id": "67f6eb5c",
   "metadata": {},
   "outputs": [
    {
     "data": {
      "text/plain": [
       "1.0"
      ]
     },
     "execution_count": 31,
     "metadata": {},
     "output_type": "execute_result"
    }
   ],
   "source": [
    "idf(\"mr.\",a)"
   ]
  },
  {
   "cell_type": "code",
   "execution_count": 32,
   "id": "00a48748",
   "metadata": {},
   "outputs": [],
   "source": [
    "def tf_idf(term, doc, corpus):\n",
    "    return tf(term, doc) * idf(term, corpus)"
   ]
  },
  {
   "cell_type": "code",
   "execution_count": 33,
   "id": "75265634",
   "metadata": {},
   "outputs": [
    {
     "data": {
      "text/plain": [
       "0.10526315789473684"
      ]
     },
     "execution_count": 33,
     "metadata": {},
     "output_type": "execute_result"
    }
   ],
   "source": [
    "tf_idf(\"mr.\", a, corpus)"
   ]
  },
  {
   "cell_type": "code",
   "execution_count": 35,
   "id": "db4126a7",
   "metadata": {},
   "outputs": [
    {
     "name": "stdout",
     "output_type": "stream",
     "text": [
      "a : Mr. Green killed Colonel Mustard in the study with the candlestick. Mr. Green is not a very nice fellow.\n",
      "b : Professor Plum has a green plant in his study.\n",
      "c : Miss Scarlett watered Professor Plum's green plant while he was away from his office last week.\n",
      "\n"
     ]
    }
   ],
   "source": [
    "for (k,v) in sorted(corpus.items()):\n",
    "    print(k, ':', v)\n",
    "print()"
   ]
  },
  {
   "cell_type": "code",
   "execution_count": 36,
   "id": "b565ba90",
   "metadata": {},
   "outputs": [],
   "source": [
    "query_scores = {'a':0, 'b':0, 'c':0}"
   ]
  },
  {
   "cell_type": "code",
   "execution_count": 37,
   "id": "fc4ce98d",
   "metadata": {},
   "outputs": [
    {
     "name": "stdout",
     "output_type": "stream",
     "text": [
      "TF(a): mr. 0.10526315789473684\n",
      "TF(b): mr. 0.0\n",
      "TF(c): mr. 0.0\n",
      "IDF: mr. 2.09861228866811\n",
      "\n",
      "TF-IDF(a): mr. 0.22090655670190631\n",
      "TF-IDF(b): mr. 0.0\n",
      "TF-IDF(c): mr. 0.0\n",
      "\n",
      "TF(a): green 0.10526315789473684\n",
      "TF(b): green 0.1111111111111111\n",
      "TF(c): green 0.0625\n",
      "IDF: green 1.0\n",
      "\n",
      "TF-IDF(a): green 0.10526315789473684\n",
      "TF-IDF(b): green 0.1111111111111111\n",
      "TF-IDF(c): green 0.0625\n",
      "\n"
     ]
    }
   ],
   "source": [
    "for term in [t.lower() for t in QUERY_TERMS]:\n",
    "    for doc in sorted(corpus):\n",
    "        print('TF({0}): {1}'.format(doc,term), tf(term,corpus[doc]))\n",
    "    print('IDF: {0}'.format(term), idf(term,corpus.values()))\n",
    "    print()\n",
    "    \n",
    "    for doc in sorted(corpus):\n",
    "        score = tf_idf(term, corpus[doc], corpus.values())\n",
    "        print('TF-IDF({0}): {1}'.format(doc,term),score)\n",
    "        query_scores[doc] += score\n",
    "    print()"
   ]
  },
  {
   "cell_type": "code",
   "execution_count": 40,
   "id": "30ec1864",
   "metadata": {},
   "outputs": [
    {
     "name": "stdout",
     "output_type": "stream",
     "text": [
      "Overall TF-IDF scores for query 'mr. green'\n",
      "a 0.3261697145966431\n",
      "b 0.1111111111111111\n",
      "c 0.0625\n"
     ]
    }
   ],
   "source": [
    "print(\"Overall TF-IDF scores for query '{0}'\".format(' '.join(QUERY_TERMS)))\n",
    "for (doc, score) in sorted(query_scores.items()):\n",
    "    print(doc,score)"
   ]
  }
 ],
 "metadata": {
  "kernelspec": {
   "display_name": "Python 3 (ipykernel)",
   "language": "python",
   "name": "python3"
  },
  "language_info": {
   "codemirror_mode": {
    "name": "ipython",
    "version": 3
   },
   "file_extension": ".py",
   "mimetype": "text/x-python",
   "name": "python",
   "nbconvert_exporter": "python",
   "pygments_lexer": "ipython3",
   "version": "3.9.7"
  }
 },
 "nbformat": 4,
 "nbformat_minor": 5
}

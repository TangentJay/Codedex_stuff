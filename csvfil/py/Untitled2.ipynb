{
 "cells": [
  {
   "cell_type": "code",
   "execution_count": 11,
   "id": "050e31d9",
   "metadata": {},
   "outputs": [
    {
     "ename": "TypeError",
     "evalue": "auth() takes 0 positional arguments but 1 was given",
     "output_type": "error",
     "traceback": [
      "\u001b[1;31m---------------------------------------------------------------------------\u001b[0m",
      "\u001b[1;31mTypeError\u001b[0m                                 Traceback (most recent call last)",
      "Cell \u001b[1;32mIn[11], line 47\u001b[0m\n\u001b[0;32m     44\u001b[0m max_results \u001b[38;5;241m=\u001b[39m \u001b[38;5;241m20\u001b[39m\n\u001b[0;32m     46\u001b[0m \u001b[38;5;66;03m# Replace with your actual access token before running (not shown here)\u001b[39;00m\n\u001b[1;32m---> 47\u001b[0m bearer_token \u001b[38;5;241m=\u001b[39m auth(\u001b[38;5;124m\"\u001b[39m\u001b[38;5;124m1762181877677301760-LGpjvd4xO6Cx7wENeOH7LoAMIZhek8\u001b[39m\u001b[38;5;124m\"\u001b[39m)\n\u001b[0;32m     49\u001b[0m \u001b[38;5;66;03m# Create headers and URL\u001b[39;00m\n\u001b[0;32m     50\u001b[0m headers \u001b[38;5;241m=\u001b[39m create_headers(bearer_token)\n",
      "\u001b[1;31mTypeError\u001b[0m: auth() takes 0 positional arguments but 1 was given"
     ]
    }
   ],
   "source": [
    "# Import necessary libraries\n",
    "import requests\n",
    "import json\n",
    "\n",
    "# Define functions for authentication, header creation, URL creation, and endpoint connection\n",
    "def auth():\n",
    "    # Replace with \"placeholder\" to indicate missing access token\n",
    "    return \"1762181877677301760-LGpjvd4xO6Cx7wENeOH7LoAMIZhek8\"\n",
    "\n",
    "def create_headers(bearer_token):\n",
    "    headers = {\"Authorization\": f\"Bearer {bearer_token}\"}\n",
    "    return headers\n",
    "\n",
    "def create_url(keyword, start_date, end_date, max_results=10):\n",
    "    search_url = \"https://api.twitter.com/2/tweets/search/all\"\n",
    "\n",
    "    query_params = {\n",
    "        \"query\": keyword,\n",
    "        \"start_time\": start_date,\n",
    "        \"end_time\": end_date,\n",
    "        \"max_results\": max_results,\n",
    "        \"expansions\": \"author_id,in_reply_to_user_id,geo.place_id\",\n",
    "        \"tweet.fields\": \"id,text,author_id,in_reply_to_user_id,geo,conversation_id,\"\n",
    "                       \"created_at,lang,public_metrics,referenced_tweets,reply_settings,source\",\n",
    "        \"user.fields\": \"id,name,username,created_at,description,public_metrics,verified\",\n",
    "        \"place.fields\": \"full_name,id,country,country_code,geo,name,place_type\",\n",
    "    }\n",
    "\n",
    "    return search_url, query_params\n",
    "\n",
    "def connect_to_endpoint(url, headers, params):\n",
    "    response = requests.get(url, headers=headers, params=params)\n",
    "\n",
    "    # Check for successful response (status code 200)\n",
    "    if response.status_code != 200:\n",
    "        raise Exception(f\"Error: {response.status_code} - {response.text}\")\n",
    "\n",
    "    return response.json()\n",
    "\n",
    "# Sample inputs (replace with your desired values)\n",
    "keyword = \"twitch\"\n",
    "start_date = \"2024-02-27T00:00:00.000Z\"\n",
    "end_date = \"2024-02-27T23:59:59.000Z\"\n",
    "max_results = 20\n",
    "\n",
    "# Replace with your actual access token before running (not shown here)\n",
    "bearer_token = auth(\"1762181877677301760-LGpjvd4xO6Cx7wENeOH7LoAMIZhek8\")\n",
    "\n",
    "# Create headers and URL\n",
    "headers = create_headers(bearer_token)\n",
    "url, query_params = create_url(keyword, start_date, end_date, max_results)\n",
    "\n",
    "# Connect to the endpoint and handle potential errors\n",
    "try:\n",
    "    json_response = connect_to_endpoint(url, headers, query_params)\n",
    "\n",
    "    # Process the JSON response (data extraction and analysis)\n",
    "    # This step is not included as it requires specific use cases\n",
    "    print(\"Successfully retrieved data. Please implement data processing logic.\")\n",
    "except Exception as e:\n",
    "    print(f\"Error: {e}\")\n",
    "\n",
    "# Important reminder:\n",
    "print(\"\\n**Important:**\")\n",
    "print(\"- Replace 'PLACEHOLDER_ACCESS_TOKEN' with your actual access token obtained from Twitter developer portal.\")\n",
    "print(\"- Always adhere to Twitter's API terms of service and respect user privacy.\")\n",
    "print(\"- Handle errors gracefully and implement responsible data collection practices.\")\n"
   ]
  },
  {
   "cell_type": "code",
   "execution_count": null,
   "id": "abd7d235",
   "metadata": {},
   "outputs": [],
   "source": []
  }
 ],
 "metadata": {
  "kernelspec": {
   "display_name": "Python 3 (ipykernel)",
   "language": "python",
   "name": "python3"
  },
  "language_info": {
   "codemirror_mode": {
    "name": "ipython",
    "version": 3
   },
   "file_extension": ".py",
   "mimetype": "text/x-python",
   "name": "python",
   "nbconvert_exporter": "python",
   "pygments_lexer": "ipython3",
   "version": "3.11.5"
  }
 },
 "nbformat": 4,
 "nbformat_minor": 5
}

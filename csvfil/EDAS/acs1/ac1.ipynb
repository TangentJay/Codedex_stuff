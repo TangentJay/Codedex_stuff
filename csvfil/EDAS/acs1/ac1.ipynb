{
 "cells": [
  {
   "cell_type": "code",
   "execution_count": null,
   "id": "68daa1fa",
   "metadata": {},
   "outputs": [],
   "source": [
    "9/18/2025"
   ]
  },
  {
   "cell_type": "code",
   "execution_count": null,
   "id": "faf8a44e",
   "metadata": {},
   "outputs": [],
   "source": [
    "import pandas as pd\n",
    "import numpy as np\n",
    "import matplotlib.pyplot as plt\n",
    "import seaborn as sns\n"
   ]
  },
  {
   "cell_type": "code",
   "execution_count": null,
   "id": "31068c5d",
   "metadata": {},
   "outputs": [],
   "source": [
    "sns.set "
   ]
  },
  {
   "cell_type": "code",
   "execution_count": null,
   "id": "a88c25ce",
   "metadata": {},
   "outputs": [],
   "source": []
  }
 ],
 "metadata": {
  "language_info": {
   "name": "python"
  }
 },
 "nbformat": 4,
 "nbformat_minor": 5
}

{
 "cells": [
  {
   "cell_type": "code",
   "execution_count": 49,
   "id": "68daa1fa",
   "metadata": {},
   "outputs": [
    {
     "data": {
      "text/plain": [
       "0.0002469135802469136"
      ]
     },
     "execution_count": 49,
     "metadata": {},
     "output_type": "execute_result"
    }
   ],
   "source": [
    "9/18/2025"
   ]
  },
  {
   "cell_type": "code",
   "execution_count": 50,
   "id": "faf8a44e",
   "metadata": {},
   "outputs": [],
   "source": [
    "import pandas as pd\n",
    "import numpy as np\n",
    "import matplotlib.pyplot as plt\n",
    "import seaborn as sns\n"
   ]
  },
  {
   "cell_type": "code",
   "execution_count": 51,
   "id": "31068c5d",
   "metadata": {},
   "outputs": [],
   "source": [
    "df = pd.read_csv('acs12.csv')"
   ]
  },
  {
   "cell_type": "code",
   "execution_count": 52,
   "id": "a88c25ce",
   "metadata": {},
   "outputs": [
    {
     "name": "stdout",
     "output_type": "stream",
     "text": [
      " the shape (rows, columns):  (2000, 13)\n",
      "\n",
      " first (x rows):     income          employment  hrs_work   race  age  gender citizen  \\\n",
      "0  60000.0  not in labor force      40.0  white   68  female     yes   \n",
      "1      0.0  not in labor force       NaN  white   88    male     yes   \n",
      "2      NaN                 NaN       NaN  white   12  female     yes   \n",
      "3      0.0  not in labor force       NaN  white   17    male     yes   \n",
      "4      0.0  not in labor force       NaN  white   77  female     yes   \n",
      "\n",
      "   time_to_work     lang married          edu disability    birth_qrtr  \n",
      "0           NaN  english      no      college         no  jul thru sep  \n",
      "1           NaN  english      no  hs or lower        yes  jan thru mar  \n",
      "2           NaN  english      no  hs or lower         no  oct thru dec  \n",
      "3           NaN    other      no  hs or lower         no  oct thru dec  \n",
      "4           NaN    other      no  hs or lower        yes  jul thru sep  \n",
      "\n",
      "column types and non null values count: <bound method DataFrame.info of         income          employment  hrs_work   race  age  gender citizen  \\\n",
      "0      60000.0  not in labor force      40.0  white   68  female     yes   \n",
      "1          0.0  not in labor force       NaN  white   88    male     yes   \n",
      "2          NaN                 NaN       NaN  white   12  female     yes   \n",
      "3          0.0  not in labor force       NaN  white   17    male     yes   \n",
      "4          0.0  not in labor force       NaN  white   77  female     yes   \n",
      "...        ...                 ...       ...    ...  ...     ...     ...   \n",
      "1995       0.0  not in labor force       NaN  white   71  female     yes   \n",
      "1996       0.0  not in labor force       NaN  other   50  female      no   \n",
      "1997   70000.0            employed      40.0  asian   63    male     yes   \n",
      "1998  105000.0            employed      50.0  asian   36    male     yes   \n",
      "1999       0.0          unemployed       NaN  black   22    male     yes   \n",
      "\n",
      "      time_to_work     lang married          edu disability    birth_qrtr  \n",
      "0              NaN  english      no      college         no  jul thru sep  \n",
      "1              NaN  english      no  hs or lower        yes  jan thru mar  \n",
      "2              NaN  english      no  hs or lower         no  oct thru dec  \n",
      "3              NaN    other      no  hs or lower         no  oct thru dec  \n",
      "4              NaN    other      no  hs or lower        yes  jul thru sep  \n",
      "...            ...      ...     ...          ...        ...           ...  \n",
      "1995           NaN  english     yes  hs or lower         no  oct thru dec  \n",
      "1996           NaN    other     yes  hs or lower         no  jul thru sep  \n",
      "1997          30.0  english      no      college         no  jan thru mar  \n",
      "1998          30.0  english     yes      college         no  apr thru jun  \n",
      "1999           NaN  english      no      college         no  oct thru dec  \n",
      "\n",
      "[2000 rows x 13 columns]>\n"
     ]
    }
   ],
   "source": [
    "print(f' the shape (rows, columns):  {df.shape}')\n",
    "print(f'\\n first (x rows): {df.head(5)}')\n",
    "print(f'\\ncolumn types and non null values count: {df.info}')\n"
   ]
  },
  {
   "cell_type": "code",
   "execution_count": 53,
   "id": "9bda4848",
   "metadata": {},
   "outputs": [
    {
     "name": "stdout",
     "output_type": "stream",
     "text": [
      "\n",
      " missing values per column: income           377\n",
      "employment       395\n",
      "hrs_work        1041\n",
      "race               0\n",
      "age                0\n",
      "gender             0\n",
      "citizen            0\n",
      "time_to_work    1217\n",
      "lang             105\n",
      "married            0\n",
      "edu               58\n",
      "disability         0\n",
      "birth_qrtr         0\n",
      "dtype: int64 \n"
     ]
    }
   ],
   "source": [
    "print(f'\\n missing values per column: {df.isnull().sum(0)} ')"
   ]
  },
  {
   "cell_type": "code",
   "execution_count": 54,
   "id": "e2055a1c",
   "metadata": {},
   "outputs": [
    {
     "name": "stdout",
     "output_type": "stream",
     "text": [
      "Summary statistics on numeric columns:\n",
      "summary:               income    hrs_work          age  time_to_work\n",
      "count    1623.000000  959.000000  2000.000000    783.000000\n",
      "mean    23599.981516   37.977059    40.224000     25.997446\n",
      "std     46567.231367   13.497680    23.662857     22.290973\n",
      "min         0.000000    1.000000     0.000000      1.000000\n",
      "25%         0.000000   32.000000    19.750000     10.000000\n",
      "50%      3000.000000   40.000000    40.000000     20.000000\n",
      "75%     33700.000000   40.000000    59.000000     30.000000\n",
      "max    450000.000000   99.000000    94.000000    163.000000\n"
     ]
    }
   ],
   "source": [
    "print('Summary statistics on numeric columns:')\n",
    "print(f'summary: {df.describe()}')"
   ]
  },
  {
   "cell_type": "code",
   "execution_count": 55,
   "id": "7d38d7bf",
   "metadata": {},
   "outputs": [
    {
     "name": "stdout",
     "output_type": "stream",
     "text": [
      "\n",
      "Unique values in gender: <bound method Series.unique of 0       female\n",
      "1         male\n",
      "2       female\n",
      "3         male\n",
      "4       female\n",
      "         ...  \n",
      "1995    female\n",
      "1996    female\n",
      "1997      male\n",
      "1998      male\n",
      "1999      male\n",
      "Name: gender, Length: 2000, dtype: object>\n",
      "unique values in employment: ['not in labor force' nan 'employed' 'unemployed']\n",
      "unique values in edu: ['college' 'hs or lower' 'grad' nan]\n",
      "unique values in: birth qrtr:['jul thru sep' 'jan thru mar' 'oct thru dec' 'apr thru jun'],disable: ['no' 'yes'],married: ['no' 'yes'],has education: ['college' 'hs or lower' 'grad' nan],race: ['white' 'other' 'asian' 'black'],employedd: ['not in labor force' nan 'employed' 'unemployed'],language: ['english' 'other' nan]  \n"
     ]
    }
   ],
   "source": [
    "print(f'\\nUnique values in gender: {df['gender'].unique}')\n",
    "print(f'unique values in employment: {df['employment'].unique()}')\n",
    "print(f'unique values in edu: {df['edu'].unique()}')\n",
    "print(f'unique values in: birth qrtr:{df['birth_qrtr'].unique()},disable: {df['disability'].unique()},married: {df['married'].unique()},has education: {df['edu'].unique()},race: {df['race'].unique()},employedd: {df['employment'].unique()},language: {df['lang'].unique()}  ')"
   ]
  },
  {
   "cell_type": "code",
   "execution_count": 56,
   "id": "bb854d99",
   "metadata": {},
   "outputs": [
    {
     "name": "stdout",
     "output_type": "stream",
     "text": [
      "income           377\n",
      "employment       395\n",
      "hrs_work        1041\n",
      "race               0\n",
      "age                0\n",
      "gender             0\n",
      "citizen            0\n",
      "time_to_work    1217\n",
      "lang             105\n",
      "married            0\n",
      "edu               58\n",
      "disability         0\n",
      "birth_qrtr         0\n",
      "dtype: int64\n"
     ]
    }
   ],
   "source": [
    "print(df.isnull().sum())\n",
    "df= df.drop_duplicates()"
   ]
  },
  {
   "cell_type": "code",
   "execution_count": 57,
   "id": "fb9ecbd0",
   "metadata": {},
   "outputs": [
    {
     "data": {
      "image/png": "[encoded data removed]",
      "text/plain": [
       "<Figure size 600x400 with 1 Axes>"
      ]
     },
     "metadata": {},
     "output_type": "display_data"
    }
   ],
   "source": [
    "#plotting here    ggplot2 (r)\n",
    "plt.figure(figsize=(6,4))\n",
    "df['race'].value_counts().plot(kind='bar', color='black', edgecolor='red')\n",
    "\n",
    "plt.title('Race Counts')\n",
    "plt.xlabel('Racez')\n",
    "plt.ylabel('number  of ppl')\n",
    "plt.show()"
   ]
  },
  {
   "cell_type": "code",
   "execution_count": 58,
   "id": "4aaf2561",
   "metadata": {},
   "outputs": [
    {
     "name": "stderr",
     "output_type": "stream",
     "text": [
      "C:\\Users\\oosode.Oos\\AppData\\Local\\Temp\\ipykernel_27232\\1023881768.py:4: FutureWarning: \n",
      "\n",
      "Passing `palette` without assigning `hue` is deprecated and will be removed in v0.14.0. Assign the `x` variable to `hue` and set `legend=False` for the same effect.\n",
      "\n",
      "  sns.boxplot(x='race', y='age', data=df, palette='Set3')\n"
     ]
    },
    {
     "data": {
      "image/png": "[encoded data removed]",
      "text/plain": [
       "<Figure size 800x700 with 1 Axes>"
      ]
     },
     "metadata": {},
     "output_type": "display_data"
    }
   ],
   "source": [
    "#wetternnen und alter( race and age)\n",
    "plt.figure(figsize=(8,7))\n",
    "\n",
    "sns.boxplot(x='race', y='age', data=df, palette='Set3')\n",
    "\n",
    "plt.title('age distro by race')\n",
    "plt.xlabel('wettrenne (race)')\n",
    "plt.ylabel('Alter (age)')\n",
    "plt.show()\n"
   ]
  },
  {
   "cell_type": "code",
   "execution_count": 59,
   "id": "0730c04d",
   "metadata": {},
   "outputs": [],
   "source": [
    "#race und edu\n",
    "# plt.figure(figsize=(8,6))\n",
    "\n",
    "# sns.countplot(x='race', hue='edu', data=df, palette='Set2')\n",
    "\n",
    "# plt.title('Education levels by race')\n",
    "# plt.xlabel('race')\n",
    "# plt.ylabel('Count of ppl')\n",
    "# plt.legend(title='educationz')\n",
    "# plt.show()"
   ]
  },
  {
   "cell_type": "code",
   "execution_count": 60,
   "id": "4494c8ae",
   "metadata": {},
   "outputs": [
    {
     "name": "stderr",
     "output_type": "stream",
     "text": [
      "C:\\Users\\oosode.Oos\\AppData\\Local\\Temp\\ipykernel_27232\\2137853093.py:2: FutureWarning: \n",
      "\n",
      "Passing `palette` without assigning `hue` is deprecated and will be removed in v0.14.0. Assign the `x` variable to `hue` and set `legend=False` for the same effect.\n",
      "\n",
      "  sns.boxplot(x='race', y='income', data=df, palette='pastel')\n"
     ]
    },
    {
     "data": {
      "image/png": "[encoded data removed]",
      "text/plain": [
       "<Figure size 800x600 with 1 Axes>"
      ]
     },
     "metadata": {},
     "output_type": "display_data"
    }
   ],
   "source": [
    "plt.figure(figsize=(8,6))\n",
    "sns.boxplot(x='race', y='income', data=df, palette='pastel')\n",
    "\n",
    "plt.title('Income distro via race')\n",
    "plt.xlabel('race')\n",
    "plt.ylabel('income')\n",
    "plt.ylim(0,100000)\n",
    "plt.show()"
   ]
  },
  {
   "cell_type": "code",
   "execution_count": 61,
   "id": "e0bc6f1b",
   "metadata": {},
   "outputs": [
    {
     "name": "stdout",
     "output_type": "stream",
     "text": [
      "edu\n",
      "college        35429.525140\n",
      "grad           68776.433566\n",
      "hs or lower    14587.772643\n",
      "Name: income, dtype: float64\n",
      "gender\n",
      "female    34.573059\n",
      "male      40.838772\n",
      "Name: hrs_work, dtype: float64\n",
      "race   edu        \n",
      "asian  college         49034.090909\n",
      "       grad           154181.818182\n",
      "       hs or lower     15161.904762\n",
      "black  college         29223.076923\n",
      "       grad            38777.777778\n",
      "       hs or lower     10313.730159\n",
      "other  college         34291.666667\n",
      "       grad            41188.888889\n",
      "       hs or lower     11679.310345\n",
      "white  college         35012.483221\n",
      "       grad            65081.842105\n",
      "       hs or lower     15515.767836\n",
      "Name: income, dtype: float64\n"
     ]
    }
   ],
   "source": [
    "#summary statistics\n",
    "print(df.groupby('edu')['income'].mean())\n",
    "print(df.groupby('gender')['hrs_work'].mean())\n",
    "print(df.groupby(['race','edu'])  ['income'].mean())"
   ]
  },
  {
   "cell_type": "code",
   "execution_count": null,
   "id": "7784a638",
   "metadata": {},
   "outputs": [],
   "source": []
  }
 ],
 "metadata": {
  "kernelspec": {
   "display_name": "Python 3",
   "language": "python",
   "name": "python3"
  },
  "language_info": {
   "codemirror_mode": {
    "name": "ipython",
    "version": 3
   },
   "file_extension": ".py",
   "mimetype": "text/x-python",
   "name": "python",
   "nbconvert_exporter": "python",
   "pygments_lexer": "ipython3",
   "version": "3.13.7"
  }
 },
 "nbformat": 4,
 "nbformat_minor": 5
}

{
 "cells": [
  {
   "cell_type": "code",
   "execution_count": 2,
   "id": "ca73a1ae",
   "metadata": {},
   "outputs": [],
   "source": [
    "#9/23/2025\n"
   ]
  },
  {
   "cell_type": "code",
   "execution_count": 3,
   "id": "8acfc951",
   "metadata": {},
   "outputs": [],
   "source": [
    "import requests\n",
    "import bs4 as BeautifulSoup\n",
    "import pandas as pd\n",
    "import time"
   ]
  },
  {
   "cell_type": "code",
   "execution_count": 4,
   "id": "fe5c1b9e",
   "metadata": {},
   "outputs": [
    {
     "name": "stdout",
     "output_type": "stream",
     "text": [
      "we will test to see if we can connect\n"
     ]
    }
   ],
   "source": [
    "url = 'http://www.indeed.com/jobs?q=cybersecurity+analyst&l='\n",
    "print('we will test to see if we can connect')"
   ]
  },
  {
   "cell_type": "code",
   "execution_count": null,
   "id": "1baf18bd",
   "metadata": {},
   "outputs": [
    {
     "name": "stdout",
     "output_type": "stream",
     "text": [
      "Respone status: 403\n"
     ]
    }
   ],
   "source": [
    "#200 means success, 403 means forbidden, denied.\n",
    "response = requests.get(url)\n",
    "print(f'Respone status: {response.status_code}') "
   ]
  },
  {
   "cell_type": "code",
   "execution_count": 6,
   "id": "6b303790",
   "metadata": {},
   "outputs": [
    {
     "name": "stdout",
     "output_type": "stream",
     "text": [
      "Testing connection to practice site...\n",
      "Response status: 200\n",
      "Page title: Hockey Teams: Forms, Searching and Pagination | Scrape This Site | A public sandbox for learning web scraping\n",
      "Found 25 teams on the page\n",
      "\n",
      "First team data:\n",
      "Boston Bruins\n",
      "                        \n",
      "\n",
      "                            1990\n",
      "                        \n",
      "\n",
      "                            44\n",
      "                        \n",
      "\n",
      "                            24\n",
      "                        \n",
      "\n",
      "\n",
      "\n",
      "                            0.55\n",
      "                        \n",
      "\n",
      "                            299\n",
      "                        \n",
      "\n",
      "                            264\n",
      "                        \n",
      "\n",
      "                            35\n"
     ]
    }
   ],
   "source": [
    "# Imports: Required for web scraping and data handling\n",
    "import requests\n",
    "from bs4 import BeautifulSoup\n",
    "import pandas as pd\n",
    "import time\n",
    "\n",
    "# Indeed blocks bots, so let's try a practice site first\n",
    "# We'll use a site designed for scraping practice\n",
    "url = \"https://scrapethissite.com/pages/forms/\"\n",
    "print(\"Testing connection to practice site...\")\n",
    "\n",
    "# Get the webpage\n",
    "response = requests.get(url)\n",
    "print(f\"Response status: {response.status_code}\")  # Should be 200\n",
    "\n",
    "# Parse the HTML content\n",
    "soup = BeautifulSoup(response.content, 'html.parser')\n",
    "print(\"Page title:\", soup.title.string)\n",
    "\n",
    "# This site has hockey team data we can practice with\n",
    "teams = soup.find_all('tr', class_='team')\n",
    "print(f\"Found {len(teams)} teams on the page\")\n",
    "\n",
    "# Look at the first team to understand the structure\n",
    "if teams:\n",
    "    first_team = teams[0]\n",
    "    print(\"\\nFirst team data:\")\n",
    "    print(first_team.get_text().strip())"
   ]
  },
  {
   "cell_type": "code",
   "execution_count": null,
   "id": "f9be752f",
   "metadata": {},
   "outputs": [],
   "source": []
  }
 ],
 "metadata": {
  "kernelspec": {
   "display_name": "Python 3",
   "language": "python",
   "name": "python3"
  },
  "language_info": {
   "codemirror_mode": {
    "name": "ipython",
    "version": 3
   },
   "file_extension": ".py",
   "mimetype": "text/x-python",
   "name": "python",
   "nbconvert_exporter": "python",
   "pygments_lexer": "ipython3",
   "version": "3.13.7"
  }
 },
 "nbformat": 4,
 "nbformat_minor": 5
}

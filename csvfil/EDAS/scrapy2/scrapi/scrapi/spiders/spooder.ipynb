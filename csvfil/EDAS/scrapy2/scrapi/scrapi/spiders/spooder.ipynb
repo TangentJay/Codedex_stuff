{
 "cells": [
  {
   "cell_type": "code",
   "execution_count": 14,
   "id": "bb9ea0e0",
   "metadata": {},
   "outputs": [],
   "source": [
    "#9/23/2025\n",
    "#scuffed scraping N stuff\n",
    "import scrapy\n"
   ]
  },
  {
   "cell_type": "code",
   "execution_count": 9,
   "id": "082638b3",
   "metadata": {},
   "outputs": [],
   "source": [
    "from scrapy.spiders import CrawlSpider, Rule\n",
    "from scrapy.linkextractors import LinkExtractor"
   ]
  },
  {
   "cell_type": "code",
   "execution_count": 10,
   "id": "823460e8",
   "metadata": {},
   "outputs": [],
   "source": [
    "#custom spooder class\n",
    "class spoders(CrawlSpider):\n",
    "    name = 'scuffed_web'\n",
    "    allowed_domains = ['toscape.com','finance.yahoo.com']\n",
    "    start_url = ['https://books.toscrape.com/','https://finance.yahoo.com/markets/' ]\n",
    "\n",
    "    rules = (\n",
    "     Rule(LinkExtractor(allow='catalouge/category')) ,          \n",
    "\n",
    "\n",
    "\n",
    "    )"
   ]
  },
  {
   "cell_type": "code",
   "execution_count": 13,
   "id": "a10cd79d",
   "metadata": {},
   "outputs": [],
   "source": [
    "class CrawlingSpider(CrawlSpider):\n",
    "    name = 'spooder'\n",
    "    allowed_domains = ['toscrape.com']\n",
    "    start_urls = ['http://books.toscrape.com/']\n",
    "\n",
    "    rules = (\n",
    "        Rule(LinkExtractor(allow='catalogue/category'))\n",
    "    )"
   ]
  },
  {
   "cell_type": "code",
   "execution_count": null,
   "id": "854d2f8d",
   "metadata": {},
   "outputs": [],
   "source": []
  }
 ],
 "metadata": {
  "kernelspec": {
   "display_name": "Python 3",
   "language": "python",
   "name": "python3"
  },
  "language_info": {
   "codemirror_mode": {
    "name": "ipython",
    "version": 3
   },
   "file_extension": ".py",
   "mimetype": "text/x-python",
   "name": "python",
   "nbconvert_exporter": "python",
   "pygments_lexer": "ipython3",
   "version": "3.13.7"
  }
 },
 "nbformat": 4,
 "nbformat_minor": 5
}

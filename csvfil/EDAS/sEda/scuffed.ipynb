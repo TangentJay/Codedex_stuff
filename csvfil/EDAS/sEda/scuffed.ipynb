{
 "cells": [
  {
   "cell_type": "code",
   "execution_count": null,
   "id": "3b2abb31",
   "metadata": {},
   "outputs": [],
   "source": [
    "#9/23/2025\n",
    "#Scuffed insta overview\n",
    "#EDA stuff"
   ]
  },
  {
   "cell_type": "code",
   "execution_count": null,
   "id": "98f06461",
   "metadata": {},
   "outputs": [],
   "source": [
    "import pandas as pd\n",
    "import matplotlib.pyplot as plt\n",
    "import seaborn as sns"
   ]
  },
  {
   "cell_type": "code",
   "execution_count": null,
   "id": "0ce15404",
   "metadata": {},
   "outputs": [],
   "source": [
    "def scuffed_Eda(csv_file):\n",
    "    '''\n",
    "    best pratice\n",
    "    quick exploratory\n",
    "    data analysis\n",
    "    '''\n",
    "    df = pd.read_csv('some csv_file')\n",
    "\n",
    "    "
   ]
  },
  {
   "cell_type": "code",
   "execution_count": null,
   "id": "395ff7c5",
   "metadata": {},
   "outputs": [],
   "source": []
  },
  {
   "cell_type": "code",
   "execution_count": null,
   "id": "2fd76ce0",
   "metadata": {},
   "outputs": [],
   "source": []
  }
 ],
 "metadata": {
  "kernelspec": {
   "display_name": "Python 3",
   "language": "python",
   "name": "python3"
  },
  "language_info": {
   "codemirror_mode": {
    "name": "ipython",
    "version": 3
   },
   "file_extension": ".py",
   "mimetype": "text/x-python",
   "name": "python",
   "nbconvert_exporter": "python",
   "pygments_lexer": "ipython3",
   "version": "3.13.7"
  }
 },
 "nbformat": 4,
 "nbformat_minor": 5
}

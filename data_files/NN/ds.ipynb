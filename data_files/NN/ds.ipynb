{
 "cells": [
  {
   "cell_type": "code",
   "execution_count": 3,
   "id": "8eb22a64",
   "metadata": {},
   "outputs": [],
   "source": [
    "import numpy as np\n",
    "import matplotlib as mp\n",
    "import pandas as pd\n",
    "\n"
   ]
  },
  {
   "cell_type": "code",
   "execution_count": 2,
   "id": "f41a24a6",
   "metadata": {},
   "outputs": [
    {
     "data": {
      "text/plain": [
       "'hi'"
      ]
     },
     "execution_count": 2,
     "metadata": {},
     "output_type": "execute_result"
    }
   ],
   "source": [
    "'hi'"
   ]
  },
  {
   "cell_type": "code",
   "execution_count": null,
   "id": "46912365",
   "metadata": {},
   "outputs": [
    {
     "data": {
      "text/plain": [
       "'we go'"
      ]
     },
     "execution_count": 1,
     "metadata": {},
     "output_type": "execute_result"
    },
    {
     "ename": "",
     "evalue": "",
     "output_type": "error",
     "traceback": [
      "\u001b[1;31mThe Kernel crashed while executing code in the current cell or a previous cell. \n",
      "\u001b[1;31mPlease review the code in the cell(s) to identify a possible cause of the failure. \n",
      "\u001b[1;31mClick <a href='https://aka.ms/vscodeJupyterKernelCrash'>here</a> for more info. \n",
      "\u001b[1;31mView Jupyter <a href='command:jupyter.viewOutput'>log</a> for further details."
     ]
    }
   ],
   "source": [
    "'we go'"
   ]
  },
  {
   "cell_type": "code",
   "execution_count": 2,
   "id": "2b6cf5c2",
   "metadata": {},
   "outputs": [
    {
     "data": {
      "text/plain": [
       "4"
      ]
     },
     "execution_count": 2,
     "metadata": {},
     "output_type": "execute_result"
    }
   ],
   "source": [
    "x = [15,10,2,84] + [1,4,8,7,9]\n",
    "x.index(x.count(x[0]))"
   ]
  },
  {
   "cell_type": "code",
   "execution_count": 4,
   "id": "cab5af6e",
   "metadata": {},
   "outputs": [],
   "source": [
    "import hashlib\n",
    "from tkinter import *\n",
    "from tkinter import messagebox\n",
    "\n",
    "class CryptoToolkit:\n",
    "    def __init__(self, root):\n",
    "        self.root = root\n",
    "        self.root.title(\"🔐 Crypto Toolkit - Lab 3 Prep\")\n",
    "        self.root.geometry(\"600x500\")\n",
    "        self.root.configure(bg='#2b2b2b')\n",
    "        \n",
    "        self.create_widgets()\n",
    "    \n",
    "    def create_widgets(self):\n",
    "        # Title\n",
    "        Label(self.root, text=\"🔐 Cryptographic Toolkit\", \n",
    "              font=(\"Arial\", 16, \"bold\"), fg='#00ff88', bg='#2b2b2b').pack(pady=10)\n",
    "        \n",
    "        # Create notebook-style tabs\n",
    "        self.create_caesar_tab()\n",
    "        self.create_xor_tab()\n",
    "        self.create_hash_tab()\n",
    "    \n",
    "    def create_caesar_tab(self):\n",
    "        # Caesar Cipher Section\n",
    "        caesar_frame = LabelFrame(self.root, text=\"🏛️ Caesar Cipher\", \n",
    "                                 fg='#00ffff', bg='#2b2b2b', font=(\"Arial\", 12, \"bold\"))\n",
    "        caesar_frame.pack(pady=10, padx=20, fill='x')\n",
    "        \n",
    "        Label(caesar_frame, text=\"Text:\", fg='white', bg='#2b2b2b').grid(row=0, column=0, sticky='w', padx=5, pady=5)\n",
    "        self.caesar_text = Entry(caesar_frame, width=40, font=(\"Arial\", 10))\n",
    "        self.caesar_text.grid(row=0, column=1, padx=5, pady=5)\n",
    "        \n",
    "        Label(caesar_frame, text=\"Shift:\", fg='white', bg='#2b2b2b').grid(row=1, column=0, sticky='w', padx=5, pady=5)\n",
    "        self.caesar_shift = Entry(caesar_frame, width=10, font=(\"Arial\", 10))\n",
    "        self.caesar_shift.insert(0, \"3\")\n",
    "        self.caesar_shift.grid(row=1, column=1, sticky='w', padx=5, pady=5)\n",
    "        \n",
    "        Button(caesar_frame, text=\"🔒 Encrypt\", command=self.caesar_encrypt, \n",
    "               bg='#ff6b6b', fg='white').grid(row=2, column=0, padx=5, pady=5)\n",
    "        Button(caesar_frame, text=\"🔓 Decrypt\", command=self.caesar_decrypt, \n",
    "               bg='#51cf66', fg='white').grid(row=2, column=1, sticky='w', padx=5, pady=5)\n",
    "        \n",
    "        Label(caesar_frame, text=\"Result:\", fg='white', bg='#2b2b2b').grid(row=3, column=0, sticky='w', padx=5, pady=5)\n",
    "        self.caesar_result = Entry(caesar_frame, width=40, font=(\"Arial\", 10), state='readonly')\n",
    "        self.caesar_result.grid(row=3, column=1, padx=5, pady=5)\n",
    "    \n",
    "    def create_xor_tab(self):\n",
    "        # XOR Cipher Section\n",
    "        xor_frame = LabelFrame(self.root, text=\"⚡ XOR Cipher\", \n",
    "                              fg='#00ffff', bg='#2b2b2b', font=(\"Arial\", 12, \"bold\"))\n",
    "        xor_frame.pack(pady=10, padx=20, fill='x')\n",
    "        \n",
    "        Label(xor_frame, text=\"Text:\", fg='white', bg='#2b2b2b').grid(row=0, column=0, sticky='w', padx=5, pady=5)\n",
    "        self.xor_text = Entry(xor_frame, width=40, font=(\"Arial\", 10))\n",
    "        self.xor_text.grid(row=0, column=1, padx=5, pady=5)\n",
    "        \n",
    "        Label(xor_frame, text=\"Key:\", fg='white', bg='#2b2b2b').grid(row=1, column=0, sticky='w', padx=5, pady=5)\n",
    "        self.xor_key = Entry(xor_frame, width=40, font=(\"Arial\", 10))\n",
    "        self.xor_key.insert(0, \"secret\")\n",
    "        self.xor_key.grid(row=1, column=1, padx=5, pady=5)\n",
    "        \n",
    "        Button(xor_frame, text=\"🔄 XOR Encrypt/Decrypt\", command=self.xor_cipher, \n",
    "               bg='#339af0', fg='white').grid(row=2, column=0, columnspan=2, pady=5)\n",
    "        \n",
    "        Label(xor_frame, text=\"Result:\", fg='white', bg='#2b2b2b').grid(row=3, column=0, sticky='w', padx=5, pady=5)\n",
    "        self.xor_result = Entry(xor_frame, width=40, font=(\"Arial\", 10), state='readonly')\n",
    "        self.xor_result.grid(row=3, column=1, padx=5, pady=5)\n",
    "    \n",
    "    def create_hash_tab(self):\n",
    "        # Hash Generator Section\n",
    "        hash_frame = LabelFrame(self.root, text=\"🔢 Hash Generator\", \n",
    "                               fg='#00ffff', bg='#2b2b2b', font=(\"Arial\", 12, \"bold\"))\n",
    "        hash_frame.pack(pady=10, padx=20, fill='x')\n",
    "        \n",
    "        Label(hash_frame, text=\"Text:\", fg='white', bg='#2b2b2b').grid(row=0, column=0, sticky='w', padx=5, pady=5)\n",
    "        self.hash_text = Entry(hash_frame, width=40, font=(\"Arial\", 10))\n",
    "        self.hash_text.grid(row=0, column=1, columnspan=3, padx=5, pady=5)\n",
    "        \n",
    "        Button(hash_frame, text=\"MD5\", command=lambda: self.generate_hash('md5'), \n",
    "               bg='#fd7e14', fg='white', width=8).grid(row=1, column=0, padx=5, pady=5)\n",
    "        Button(hash_frame, text=\"SHA-1\", command=lambda: self.generate_hash('sha1'), \n",
    "               bg='#e64980', fg='white', width=8).grid(row=1, column=1, padx=5, pady=5)\n",
    "        Button(hash_frame, text=\"SHA-256\", command=lambda: self.generate_hash('sha256'), \n",
    "               bg='#7950f2', fg='white', width=8).grid(row=1, column=2, padx=5, pady=5)\n",
    "        \n",
    "        Label(hash_frame, text=\"Hash:\", fg='white', bg='#2b2b2b').grid(row=2, column=0, sticky='w', padx=5, pady=5)\n",
    "        self.hash_result = Text(hash_frame, width=50, height=3, font=(\"Consolas\", 9))\n",
    "        self.hash_result.grid(row=2, column=1, columnspan=3, padx=5, pady=5)\n",
    "        \n",
    "        Button(hash_frame, text=\"📋 Copy Hash\", command=self.copy_hash, \n",
    "               bg='#20c997', fg='white').grid(row=3, column=1, pady=5)\n",
    "    \n",
    "    def caesar_encrypt(self):\n",
    "        try:\n",
    "            text = self.caesar_text.get()\n",
    "            shift = int(self.caesar_shift.get())\n",
    "            result = self.caesar_cipher(text, shift)\n",
    "            \n",
    "            self.caesar_result.config(state='normal')\n",
    "            self.caesar_result.delete(0, END)\n",
    "            self.caesar_result.insert(0, result)\n",
    "            self.caesar_result.config(state='readonly')\n",
    "        except ValueError:\n",
    "            messagebox.showerror(\"Error\", \"Please enter a valid shift number!\")\n",
    "    \n",
    "    def caesar_decrypt(self):\n",
    "        try:\n",
    "            text = self.caesar_text.get()\n",
    "            shift = -int(self.caesar_shift.get())  # Negative shift for decrypt\n",
    "            result = self.caesar_cipher(text, shift)\n",
    "            \n",
    "            self.caesar_result.config(state='normal')\n",
    "            self.caesar_result.delete(0, END)\n",
    "            self.caesar_result.insert(0, result)\n",
    "            self.caesar_result.config(state='readonly')\n",
    "        except ValueError:\n",
    "            messagebox.showerror(\"Error\", \"Please enter a valid shift number!\")\n",
    "    \n",
    "    def caesar_cipher(self, text, shift):\n",
    "        result = \"\"\n",
    "        for char in text:\n",
    "            if char.isalpha():\n",
    "                # Handle uppercase and lowercase\n",
    "                start = 65 if char.isupper() else 97\n",
    "                result += chr((ord(char) - start + shift) % 26 + start)\n",
    "            else:\n",
    "                result += char\n",
    "        return result\n",
    "    \n",
    "    def xor_cipher(self):\n",
    "        text = self.xor_text.get()\n",
    "        key = self.xor_key.get()\n",
    "        \n",
    "        if not key:\n",
    "            messagebox.showerror(\"Error\", \"Please enter a key!\")\n",
    "            return\n",
    "        \n",
    "        result = \"\"\n",
    "        key_len = len(key)\n",
    "        \n",
    "        for i, char in enumerate(text):\n",
    "            key_char = key[i % key_len]\n",
    "            result += chr(ord(char) ^ ord(key_char))\n",
    "        \n",
    "        # Convert to hex for display (since XOR can produce unprintable chars)\n",
    "        hex_result = result.encode('latin-1').hex()\n",
    "        \n",
    "        self.xor_result.config(state='normal')\n",
    "        self.xor_result.delete(0, END)\n",
    "        self.xor_result.insert(0, f\"Hex: {hex_result}\")\n",
    "        self.xor_result.config(state='readonly')\n",
    "    \n",
    "    def generate_hash(self, hash_type):\n",
    "        text = self.hash_text.get()\n",
    "        if not text:\n",
    "            messagebox.showerror(\"Error\", \"Please enter text to hash!\")\n",
    "            return\n",
    "        \n",
    "        # Generate hash\n",
    "        if hash_type == 'md5':\n",
    "            hash_obj = hashlib.md5(text.encode())\n",
    "        elif hash_type == 'sha1':\n",
    "            hash_obj = hashlib.sha1(text.encode())\n",
    "        elif hash_type == 'sha256':\n",
    "            hash_obj = hashlib.sha256(text.encode())\n",
    "        \n",
    "        hash_result = hash_obj.hexdigest()\n",
    "        \n",
    "        # Display result\n",
    "        self.hash_result.delete(1.0, END)\n",
    "        self.hash_result.insert(END, f\"{hash_type.upper()}: {hash_result}\")\n",
    "    \n",
    "    def copy_hash(self):\n",
    "        hash_text = self.hash_result.get(1.0, END).strip()\n",
    "        if hash_text:\n",
    "            self.root.clipboard_clear()\n",
    "            self.root.clipboard_append(hash_text)\n",
    "            messagebox.showinfo(\"Success\", \"Hash copied to clipboard!\")\n",
    "\n",
    "# Run the application\n",
    "if __name__ == \"__main__\":\n",
    "    root = Tk()\n",
    "    app = CryptoToolkit(root)\n",
    "    root.mainloop()"
   ]
  },
  {
   "cell_type": "code",
   "execution_count": null,
   "id": "9f575dfc",
   "metadata": {},
   "outputs": [
    {
     "name": "stdout",
     "output_type": "stream",
     "text": [
      "Simple password DB demo.\n",
      "\n",
      "Options: [r]egister [l]ogin [q]uit\n"
     ]
    }
   ],
   "source": []
  }
 ],
 "metadata": {
  "kernelspec": {
   "display_name": "Python 3",
   "language": "python",
   "name": "python3"
  },
  "language_info": {
   "codemirror_mode": {
    "name": "ipython",
    "version": 3
   },
   "file_extension": ".py",
   "mimetype": "text/x-python",
   "name": "python",
   "nbconvert_exporter": "python",
   "pygments_lexer": "ipython3",
   "version": "3.13.7"
  }
 },
 "nbformat": 4,
 "nbformat_minor": 5
}
